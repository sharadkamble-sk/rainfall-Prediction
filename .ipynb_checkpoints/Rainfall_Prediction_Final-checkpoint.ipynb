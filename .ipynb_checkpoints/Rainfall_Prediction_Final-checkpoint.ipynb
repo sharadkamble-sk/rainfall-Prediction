{
 "cells": [
  {
   "cell_type": "markdown",
   "id": "0f4c2940",
   "metadata": {},
   "source": [
    "# Rainfall_Prediction_Using_Supervised_Learning _Models"
   ]
  },
  {
   "cell_type": "markdown",
   "id": "5d15e34d",
   "metadata": {},
   "source": [
    "# Problem_Statement :"
   ]
  },
  {
   "cell_type": "markdown",
   "id": "431b6ddd",
   "metadata": {},
   "source": [
    "Climate is a important aspect of human life. So, the Prediction should accurate as much as possible. In this project I have  tried to deal with the prediction of the rainfall which is also a major aspect of human life and which provide the major resource of human life which is Fresh Water. Fresh water is always a crucial resource of human survival – not only for the drinking purposes but also for farming, washing and many other purposes."
   ]
  },
  {
   "cell_type": "markdown",
   "id": "12010642",
   "metadata": {},
   "source": [
    "# Aim :"
   ]
  },
  {
   "cell_type": "markdown",
   "id": "f870cb2d",
   "metadata": {},
   "source": [
    "To determine the rainfall for effective use of water resources, crop productivity and pre planning of water structures."
   ]
  },
  {
   "cell_type": "markdown",
   "id": "057f80ae",
   "metadata": {},
   "source": [
    "# Objectives : "
   ]
  },
  {
   "cell_type": "markdown",
   "id": "5f24f0ce",
   "metadata": {},
   "source": [
    "Rainfall Prediction Model has a main objective in prediction of the accurance of rain in a specific division in advance by using various Machine Learning technique and find out which Model is best for rainfall prediction."
   ]
  },
  {
   "cell_type": "markdown",
   "id": "fff2a478",
   "metadata": {},
   "source": [
    "# Attribute_Information :"
   ]
  },
  {
   "cell_type": "markdown",
   "id": "6ed65e7e",
   "metadata": {},
   "source": [
    "MinTemp : Minimum Temperature recorded in that Particular Day.(Measured In Degree Celsius)                                                              \n",
    "MaxTemp : Maximum Temperature recorded in that Particular Day.(Measured In Degree Celsius)                                                              \n",
    "Rainfall : Amount of Rainfall recorded In that Particular Day. (Measured In Centimeters)                                                             \n",
    "Evaporation : Overall Evaporation in that Particular Day. (Measured In Millimeters per unit Time Using Evaporimeters)                                                                       \n",
    "Sunshine : Overall Sunshine or density of Sunlight in that Particular Day. (Measured In Watts per Square Meter using Pyranometer)                                                                                                                \n",
    "WindGustSpeed : Sudden Speed of wind from a particular Direction. (Measured In Miles per hour)                                                                                                             \n",
    "WindSpeed9am : Wind Speed at 9 AM. (Measured In Miles per hour)                                                              \n",
    "WindSpeed3pm : Wind Speed at 3 PM. (Measured In Miles per hour)                                                              \n",
    "Humidity9am :  Humidity or Amount of Moisture in the Air at 9 AM.                                                                                                              \n",
    "Humidity3pm : Humidity or Amount of Moisture in the Air at 3 PM.                                                                                                               \n",
    "Pressure9am : Air Pressure at 9 AM. (Measured In Pascals)                                                                                                          \n",
    "Pressure3pm : Air Pressure at 3 PM. (Measured In Pascals)                                                                                                                 \n",
    "Cloud9am :  Measure of Cloud in Okta at 9 AM                                                                                \n",
    "Cloud3pm :  Measure of Cloud in Okta at 3 PM                                                                                                                \n",
    "Temp9am : Temperature Recorded at 9 AM. (Measured In Degree Celsius)                                                                                                                   \n",
    "Temp3pm : Temperature Recorded at 3 PM. (Measured In Degree Celsius)                                                                                                                     \n",
    "RainToday : Occurance of Rain today 0 for No Rain and 1 for Rainfall.                                                        \n",
    "Year : What Year you are Trying to Predict the Rainfall ?                                                                    \n",
    "Month : What Month you are Trying to Predict the Rainfall ?                                                                                                                    \n",
    "Day : What Day you are Trying to Predict the Rainfall ?                                                                                                                        \n",
    "Location_cl : Name of the State you are trying to Predict the Rainfall                                                                                                               \n",
    "WindGustDir_cl : From which direction there is a sudden increase in speed of Wind.                                                                                                           \n",
    "WindDir9am_cl :  Direction of wind at 9 AM                                                                                                            \n",
    "WindDir3pm_cl : Direction of wind at 3 PM"
   ]
  },
  {
   "cell_type": "markdown",
   "id": "df56aa5a",
   "metadata": {},
   "source": [
    "# Importing Dependancies and Libraries :"
   ]
  },
  {
   "cell_type": "code",
   "execution_count": 1,
   "id": "7cd2a762",
   "metadata": {},
   "outputs": [],
   "source": [
    "import pandas as pd\n",
    "import numpy as np\n",
    "import seaborn as sns\n",
    "import matplotlib.pyplot as plt\n",
    "import time\n",
    "\n",
    "from sklearn.preprocessing import LabelEncoder\n",
    "from sklearn.preprocessing import StandardScaler\n",
    "from imblearn.over_sampling import SMOTE\n",
    "from collections import Counter\n",
    "\n",
    "from sklearn.model_selection import train_test_split\n",
    "from sklearn.metrics import accuracy_score,confusion_matrix,classification_report\n",
    "\n",
    "from sklearn.linear_model import LogisticRegression\n",
    "from sklearn.tree import DecisionTreeClassifier\n",
    "from sklearn.ensemble import RandomForestClassifier,ExtraTreesClassifier\n",
    "from sklearn.neighbors import KNeighborsClassifier\n",
    "import xgboost as xgb\n",
    "\n",
    "import warnings\n",
    "warnings.filterwarnings(\"ignore\")"
   ]
  },
  {
   "cell_type": "markdown",
   "id": "aac2473f",
   "metadata": {},
   "source": [
    "# Dataset Reading :"
   ]
  },
  {
   "cell_type": "code",
   "execution_count": 2,
   "id": "7863816f",
   "metadata": {},
   "outputs": [
    {
     "data": {
      "text/html": [
       "<div>\n",
       "<style scoped>\n",
       "    .dataframe tbody tr th:only-of-type {\n",
       "        vertical-align: middle;\n",
       "    }\n",
       "\n",
       "    .dataframe tbody tr th {\n",
       "        vertical-align: top;\n",
       "    }\n",
       "\n",
       "    .dataframe thead th {\n",
       "        text-align: right;\n",
       "    }\n",
       "</style>\n",
       "<table border=\"1\" class=\"dataframe\">\n",
       "  <thead>\n",
       "    <tr style=\"text-align: right;\">\n",
       "      <th></th>\n",
       "      <th>Date</th>\n",
       "      <th>Location</th>\n",
       "      <th>MinTemp</th>\n",
       "      <th>MaxTemp</th>\n",
       "      <th>Rainfall</th>\n",
       "      <th>Evaporation</th>\n",
       "      <th>Sunshine</th>\n",
       "      <th>WindGustDir</th>\n",
       "      <th>WindGustSpeed</th>\n",
       "      <th>WindDir9am</th>\n",
       "      <th>...</th>\n",
       "      <th>Humidity9am</th>\n",
       "      <th>Humidity3pm</th>\n",
       "      <th>Pressure9am</th>\n",
       "      <th>Pressure3pm</th>\n",
       "      <th>Cloud9am</th>\n",
       "      <th>Cloud3pm</th>\n",
       "      <th>Temp9am</th>\n",
       "      <th>Temp3pm</th>\n",
       "      <th>RainToday</th>\n",
       "      <th>RainTomorrow</th>\n",
       "    </tr>\n",
       "  </thead>\n",
       "  <tbody>\n",
       "    <tr>\n",
       "      <th>0</th>\n",
       "      <td>12/1/2008</td>\n",
       "      <td>Andhra_Pradesh</td>\n",
       "      <td>13.4</td>\n",
       "      <td>22.9</td>\n",
       "      <td>0.6</td>\n",
       "      <td>NaN</td>\n",
       "      <td>NaN</td>\n",
       "      <td>W</td>\n",
       "      <td>44.0</td>\n",
       "      <td>W</td>\n",
       "      <td>...</td>\n",
       "      <td>71.0</td>\n",
       "      <td>22.0</td>\n",
       "      <td>1007.7</td>\n",
       "      <td>1007.1</td>\n",
       "      <td>8.0</td>\n",
       "      <td>NaN</td>\n",
       "      <td>16.9</td>\n",
       "      <td>21.8</td>\n",
       "      <td>No</td>\n",
       "      <td>No</td>\n",
       "    </tr>\n",
       "    <tr>\n",
       "      <th>1</th>\n",
       "      <td>12/2/2008</td>\n",
       "      <td>Andhra_Pradesh</td>\n",
       "      <td>7.4</td>\n",
       "      <td>25.1</td>\n",
       "      <td>0.0</td>\n",
       "      <td>NaN</td>\n",
       "      <td>NaN</td>\n",
       "      <td>WNW</td>\n",
       "      <td>44.0</td>\n",
       "      <td>NNW</td>\n",
       "      <td>...</td>\n",
       "      <td>44.0</td>\n",
       "      <td>25.0</td>\n",
       "      <td>1010.6</td>\n",
       "      <td>1007.8</td>\n",
       "      <td>NaN</td>\n",
       "      <td>NaN</td>\n",
       "      <td>17.2</td>\n",
       "      <td>24.3</td>\n",
       "      <td>No</td>\n",
       "      <td>No</td>\n",
       "    </tr>\n",
       "    <tr>\n",
       "      <th>2</th>\n",
       "      <td>12/3/2008</td>\n",
       "      <td>Andhra_Pradesh</td>\n",
       "      <td>12.9</td>\n",
       "      <td>25.7</td>\n",
       "      <td>0.0</td>\n",
       "      <td>NaN</td>\n",
       "      <td>NaN</td>\n",
       "      <td>WSW</td>\n",
       "      <td>46.0</td>\n",
       "      <td>W</td>\n",
       "      <td>...</td>\n",
       "      <td>38.0</td>\n",
       "      <td>30.0</td>\n",
       "      <td>1007.6</td>\n",
       "      <td>1008.7</td>\n",
       "      <td>NaN</td>\n",
       "      <td>2.0</td>\n",
       "      <td>21.0</td>\n",
       "      <td>23.2</td>\n",
       "      <td>No</td>\n",
       "      <td>No</td>\n",
       "    </tr>\n",
       "    <tr>\n",
       "      <th>3</th>\n",
       "      <td>12/4/2008</td>\n",
       "      <td>Andhra_Pradesh</td>\n",
       "      <td>9.2</td>\n",
       "      <td>28.0</td>\n",
       "      <td>0.0</td>\n",
       "      <td>NaN</td>\n",
       "      <td>NaN</td>\n",
       "      <td>NE</td>\n",
       "      <td>24.0</td>\n",
       "      <td>SE</td>\n",
       "      <td>...</td>\n",
       "      <td>45.0</td>\n",
       "      <td>16.0</td>\n",
       "      <td>1017.6</td>\n",
       "      <td>1012.8</td>\n",
       "      <td>NaN</td>\n",
       "      <td>NaN</td>\n",
       "      <td>18.1</td>\n",
       "      <td>26.5</td>\n",
       "      <td>No</td>\n",
       "      <td>No</td>\n",
       "    </tr>\n",
       "    <tr>\n",
       "      <th>4</th>\n",
       "      <td>12/5/2008</td>\n",
       "      <td>Andhra_Pradesh</td>\n",
       "      <td>17.5</td>\n",
       "      <td>32.3</td>\n",
       "      <td>1.0</td>\n",
       "      <td>NaN</td>\n",
       "      <td>NaN</td>\n",
       "      <td>W</td>\n",
       "      <td>41.0</td>\n",
       "      <td>ENE</td>\n",
       "      <td>...</td>\n",
       "      <td>82.0</td>\n",
       "      <td>33.0</td>\n",
       "      <td>1010.8</td>\n",
       "      <td>1006.0</td>\n",
       "      <td>7.0</td>\n",
       "      <td>8.0</td>\n",
       "      <td>17.8</td>\n",
       "      <td>29.7</td>\n",
       "      <td>No</td>\n",
       "      <td>No</td>\n",
       "    </tr>\n",
       "  </tbody>\n",
       "</table>\n",
       "<p>5 rows × 23 columns</p>\n",
       "</div>"
      ],
      "text/plain": [
       "        Date        Location  MinTemp  MaxTemp  Rainfall  Evaporation  \\\n",
       "0  12/1/2008  Andhra_Pradesh     13.4     22.9       0.6          NaN   \n",
       "1  12/2/2008  Andhra_Pradesh      7.4     25.1       0.0          NaN   \n",
       "2  12/3/2008  Andhra_Pradesh     12.9     25.7       0.0          NaN   \n",
       "3  12/4/2008  Andhra_Pradesh      9.2     28.0       0.0          NaN   \n",
       "4  12/5/2008  Andhra_Pradesh     17.5     32.3       1.0          NaN   \n",
       "\n",
       "   Sunshine WindGustDir  WindGustSpeed WindDir9am  ... Humidity9am  \\\n",
       "0       NaN           W           44.0          W  ...        71.0   \n",
       "1       NaN         WNW           44.0        NNW  ...        44.0   \n",
       "2       NaN         WSW           46.0          W  ...        38.0   \n",
       "3       NaN          NE           24.0         SE  ...        45.0   \n",
       "4       NaN           W           41.0        ENE  ...        82.0   \n",
       "\n",
       "   Humidity3pm  Pressure9am  Pressure3pm  Cloud9am  Cloud3pm  Temp9am  \\\n",
       "0         22.0       1007.7       1007.1       8.0       NaN     16.9   \n",
       "1         25.0       1010.6       1007.8       NaN       NaN     17.2   \n",
       "2         30.0       1007.6       1008.7       NaN       2.0     21.0   \n",
       "3         16.0       1017.6       1012.8       NaN       NaN     18.1   \n",
       "4         33.0       1010.8       1006.0       7.0       8.0     17.8   \n",
       "\n",
       "   Temp3pm  RainToday  RainTomorrow  \n",
       "0     21.8         No            No  \n",
       "1     24.3         No            No  \n",
       "2     23.2         No            No  \n",
       "3     26.5         No            No  \n",
       "4     29.7         No            No  \n",
       "\n",
       "[5 rows x 23 columns]"
      ]
     },
     "execution_count": 2,
     "metadata": {},
     "output_type": "execute_result"
    }
   ],
   "source": [
    "df = pd.read_csv(r\"Rainfall_Data.csv\")\n",
    "df.head()"
   ]
  },
  {
   "cell_type": "markdown",
   "id": "fb1b9d46",
   "metadata": {},
   "source": [
    "# Describing Data :"
   ]
  },
  {
   "cell_type": "code",
   "execution_count": 3,
   "id": "97f22121",
   "metadata": {},
   "outputs": [
    {
     "data": {
      "text/plain": [
       "(145460, 23)"
      ]
     },
     "execution_count": 3,
     "metadata": {},
     "output_type": "execute_result"
    }
   ],
   "source": [
    "df.shape"
   ]
  },
  {
   "cell_type": "code",
   "execution_count": 4,
   "id": "2c0d1e5a",
   "metadata": {},
   "outputs": [
    {
     "name": "stdout",
     "output_type": "stream",
     "text": [
      "<class 'pandas.core.frame.DataFrame'>\n",
      "RangeIndex: 145460 entries, 0 to 145459\n",
      "Data columns (total 23 columns):\n",
      " #   Column         Non-Null Count   Dtype  \n",
      "---  ------         --------------   -----  \n",
      " 0   Date           145460 non-null  object \n",
      " 1   Location       145460 non-null  object \n",
      " 2   MinTemp        143975 non-null  float64\n",
      " 3   MaxTemp        144199 non-null  float64\n",
      " 4   Rainfall       142199 non-null  float64\n",
      " 5   Evaporation    82670 non-null   float64\n",
      " 6   Sunshine       75625 non-null   float64\n",
      " 7   WindGustDir    135134 non-null  object \n",
      " 8   WindGustSpeed  135197 non-null  float64\n",
      " 9   WindDir9am     134894 non-null  object \n",
      " 10  WindDir3pm     141232 non-null  object \n",
      " 11  WindSpeed9am   143693 non-null  float64\n",
      " 12  WindSpeed3pm   142398 non-null  float64\n",
      " 13  Humidity9am    142806 non-null  float64\n",
      " 14  Humidity3pm    140953 non-null  float64\n",
      " 15  Pressure9am    130395 non-null  float64\n",
      " 16  Pressure3pm    130432 non-null  float64\n",
      " 17  Cloud9am       89572 non-null   float64\n",
      " 18  Cloud3pm       86102 non-null   float64\n",
      " 19  Temp9am        143693 non-null  float64\n",
      " 20  Temp3pm        141851 non-null  float64\n",
      " 21  RainToday      142199 non-null  object \n",
      " 22  RainTomorrow   142193 non-null  object \n",
      "dtypes: float64(16), object(7)\n",
      "memory usage: 25.5+ MB\n"
     ]
    }
   ],
   "source": [
    "df.info()"
   ]
  },
  {
   "cell_type": "code",
   "execution_count": 5,
   "id": "a5d62395",
   "metadata": {},
   "outputs": [
    {
     "data": {
      "text/html": [
       "<div>\n",
       "<style scoped>\n",
       "    .dataframe tbody tr th:only-of-type {\n",
       "        vertical-align: middle;\n",
       "    }\n",
       "\n",
       "    .dataframe tbody tr th {\n",
       "        vertical-align: top;\n",
       "    }\n",
       "\n",
       "    .dataframe thead th {\n",
       "        text-align: right;\n",
       "    }\n",
       "</style>\n",
       "<table border=\"1\" class=\"dataframe\">\n",
       "  <thead>\n",
       "    <tr style=\"text-align: right;\">\n",
       "      <th></th>\n",
       "      <th>MinTemp</th>\n",
       "      <th>MaxTemp</th>\n",
       "      <th>Rainfall</th>\n",
       "      <th>Evaporation</th>\n",
       "      <th>Sunshine</th>\n",
       "      <th>WindGustSpeed</th>\n",
       "      <th>WindSpeed9am</th>\n",
       "      <th>WindSpeed3pm</th>\n",
       "      <th>Humidity9am</th>\n",
       "      <th>Humidity3pm</th>\n",
       "      <th>Pressure9am</th>\n",
       "      <th>Pressure3pm</th>\n",
       "      <th>Cloud9am</th>\n",
       "      <th>Cloud3pm</th>\n",
       "      <th>Temp9am</th>\n",
       "      <th>Temp3pm</th>\n",
       "    </tr>\n",
       "  </thead>\n",
       "  <tbody>\n",
       "    <tr>\n",
       "      <th>count</th>\n",
       "      <td>143975.000000</td>\n",
       "      <td>144199.000000</td>\n",
       "      <td>142199.000000</td>\n",
       "      <td>82670.000000</td>\n",
       "      <td>75625.000000</td>\n",
       "      <td>135197.000000</td>\n",
       "      <td>143693.000000</td>\n",
       "      <td>142398.000000</td>\n",
       "      <td>142806.000000</td>\n",
       "      <td>140953.000000</td>\n",
       "      <td>130395.00000</td>\n",
       "      <td>130432.000000</td>\n",
       "      <td>89572.000000</td>\n",
       "      <td>86102.000000</td>\n",
       "      <td>143693.000000</td>\n",
       "      <td>141851.00000</td>\n",
       "    </tr>\n",
       "    <tr>\n",
       "      <th>mean</th>\n",
       "      <td>12.194034</td>\n",
       "      <td>23.221348</td>\n",
       "      <td>2.360918</td>\n",
       "      <td>5.468232</td>\n",
       "      <td>7.611178</td>\n",
       "      <td>40.035230</td>\n",
       "      <td>14.043426</td>\n",
       "      <td>18.662657</td>\n",
       "      <td>68.880831</td>\n",
       "      <td>51.539116</td>\n",
       "      <td>1017.64994</td>\n",
       "      <td>1015.255889</td>\n",
       "      <td>4.447461</td>\n",
       "      <td>4.509930</td>\n",
       "      <td>16.990631</td>\n",
       "      <td>21.68339</td>\n",
       "    </tr>\n",
       "    <tr>\n",
       "      <th>std</th>\n",
       "      <td>6.398495</td>\n",
       "      <td>7.119049</td>\n",
       "      <td>8.478060</td>\n",
       "      <td>4.193704</td>\n",
       "      <td>3.785483</td>\n",
       "      <td>13.607062</td>\n",
       "      <td>8.915375</td>\n",
       "      <td>8.809800</td>\n",
       "      <td>19.029164</td>\n",
       "      <td>20.795902</td>\n",
       "      <td>7.10653</td>\n",
       "      <td>7.037414</td>\n",
       "      <td>2.887159</td>\n",
       "      <td>2.720357</td>\n",
       "      <td>6.488753</td>\n",
       "      <td>6.93665</td>\n",
       "    </tr>\n",
       "    <tr>\n",
       "      <th>min</th>\n",
       "      <td>-8.500000</td>\n",
       "      <td>-4.800000</td>\n",
       "      <td>0.000000</td>\n",
       "      <td>0.000000</td>\n",
       "      <td>0.000000</td>\n",
       "      <td>6.000000</td>\n",
       "      <td>0.000000</td>\n",
       "      <td>0.000000</td>\n",
       "      <td>0.000000</td>\n",
       "      <td>0.000000</td>\n",
       "      <td>980.50000</td>\n",
       "      <td>977.100000</td>\n",
       "      <td>0.000000</td>\n",
       "      <td>0.000000</td>\n",
       "      <td>-7.200000</td>\n",
       "      <td>-5.40000</td>\n",
       "    </tr>\n",
       "    <tr>\n",
       "      <th>25%</th>\n",
       "      <td>7.600000</td>\n",
       "      <td>17.900000</td>\n",
       "      <td>0.000000</td>\n",
       "      <td>2.600000</td>\n",
       "      <td>4.800000</td>\n",
       "      <td>31.000000</td>\n",
       "      <td>7.000000</td>\n",
       "      <td>13.000000</td>\n",
       "      <td>57.000000</td>\n",
       "      <td>37.000000</td>\n",
       "      <td>1012.90000</td>\n",
       "      <td>1010.400000</td>\n",
       "      <td>1.000000</td>\n",
       "      <td>2.000000</td>\n",
       "      <td>12.300000</td>\n",
       "      <td>16.60000</td>\n",
       "    </tr>\n",
       "    <tr>\n",
       "      <th>50%</th>\n",
       "      <td>12.000000</td>\n",
       "      <td>22.600000</td>\n",
       "      <td>0.000000</td>\n",
       "      <td>4.800000</td>\n",
       "      <td>8.400000</td>\n",
       "      <td>39.000000</td>\n",
       "      <td>13.000000</td>\n",
       "      <td>19.000000</td>\n",
       "      <td>70.000000</td>\n",
       "      <td>52.000000</td>\n",
       "      <td>1017.60000</td>\n",
       "      <td>1015.200000</td>\n",
       "      <td>5.000000</td>\n",
       "      <td>5.000000</td>\n",
       "      <td>16.700000</td>\n",
       "      <td>21.10000</td>\n",
       "    </tr>\n",
       "    <tr>\n",
       "      <th>75%</th>\n",
       "      <td>16.900000</td>\n",
       "      <td>28.200000</td>\n",
       "      <td>0.800000</td>\n",
       "      <td>7.400000</td>\n",
       "      <td>10.600000</td>\n",
       "      <td>48.000000</td>\n",
       "      <td>19.000000</td>\n",
       "      <td>24.000000</td>\n",
       "      <td>83.000000</td>\n",
       "      <td>66.000000</td>\n",
       "      <td>1022.40000</td>\n",
       "      <td>1020.000000</td>\n",
       "      <td>7.000000</td>\n",
       "      <td>7.000000</td>\n",
       "      <td>21.600000</td>\n",
       "      <td>26.40000</td>\n",
       "    </tr>\n",
       "    <tr>\n",
       "      <th>max</th>\n",
       "      <td>33.900000</td>\n",
       "      <td>48.100000</td>\n",
       "      <td>371.000000</td>\n",
       "      <td>145.000000</td>\n",
       "      <td>14.500000</td>\n",
       "      <td>135.000000</td>\n",
       "      <td>130.000000</td>\n",
       "      <td>87.000000</td>\n",
       "      <td>100.000000</td>\n",
       "      <td>100.000000</td>\n",
       "      <td>1041.00000</td>\n",
       "      <td>1039.600000</td>\n",
       "      <td>9.000000</td>\n",
       "      <td>9.000000</td>\n",
       "      <td>40.200000</td>\n",
       "      <td>46.70000</td>\n",
       "    </tr>\n",
       "  </tbody>\n",
       "</table>\n",
       "</div>"
      ],
      "text/plain": [
       "             MinTemp        MaxTemp       Rainfall   Evaporation  \\\n",
       "count  143975.000000  144199.000000  142199.000000  82670.000000   \n",
       "mean       12.194034      23.221348       2.360918      5.468232   \n",
       "std         6.398495       7.119049       8.478060      4.193704   \n",
       "min        -8.500000      -4.800000       0.000000      0.000000   \n",
       "25%         7.600000      17.900000       0.000000      2.600000   \n",
       "50%        12.000000      22.600000       0.000000      4.800000   \n",
       "75%        16.900000      28.200000       0.800000      7.400000   \n",
       "max        33.900000      48.100000     371.000000    145.000000   \n",
       "\n",
       "           Sunshine  WindGustSpeed   WindSpeed9am   WindSpeed3pm  \\\n",
       "count  75625.000000  135197.000000  143693.000000  142398.000000   \n",
       "mean       7.611178      40.035230      14.043426      18.662657   \n",
       "std        3.785483      13.607062       8.915375       8.809800   \n",
       "min        0.000000       6.000000       0.000000       0.000000   \n",
       "25%        4.800000      31.000000       7.000000      13.000000   \n",
       "50%        8.400000      39.000000      13.000000      19.000000   \n",
       "75%       10.600000      48.000000      19.000000      24.000000   \n",
       "max       14.500000     135.000000     130.000000      87.000000   \n",
       "\n",
       "         Humidity9am    Humidity3pm   Pressure9am    Pressure3pm  \\\n",
       "count  142806.000000  140953.000000  130395.00000  130432.000000   \n",
       "mean       68.880831      51.539116    1017.64994    1015.255889   \n",
       "std        19.029164      20.795902       7.10653       7.037414   \n",
       "min         0.000000       0.000000     980.50000     977.100000   \n",
       "25%        57.000000      37.000000    1012.90000    1010.400000   \n",
       "50%        70.000000      52.000000    1017.60000    1015.200000   \n",
       "75%        83.000000      66.000000    1022.40000    1020.000000   \n",
       "max       100.000000     100.000000    1041.00000    1039.600000   \n",
       "\n",
       "           Cloud9am      Cloud3pm        Temp9am       Temp3pm  \n",
       "count  89572.000000  86102.000000  143693.000000  141851.00000  \n",
       "mean       4.447461      4.509930      16.990631      21.68339  \n",
       "std        2.887159      2.720357       6.488753       6.93665  \n",
       "min        0.000000      0.000000      -7.200000      -5.40000  \n",
       "25%        1.000000      2.000000      12.300000      16.60000  \n",
       "50%        5.000000      5.000000      16.700000      21.10000  \n",
       "75%        7.000000      7.000000      21.600000      26.40000  \n",
       "max        9.000000      9.000000      40.200000      46.70000  "
      ]
     },
     "execution_count": 5,
     "metadata": {},
     "output_type": "execute_result"
    }
   ],
   "source": [
    "df.describe()"
   ]
  },
  {
   "cell_type": "markdown",
   "id": "8a180787",
   "metadata": {},
   "source": [
    "# Changing Date to individual Date,Month,Year :"
   ]
  },
  {
   "cell_type": "code",
   "execution_count": 6,
   "id": "2c02ab43",
   "metadata": {},
   "outputs": [
    {
     "data": {
      "text/html": [
       "<div>\n",
       "<style scoped>\n",
       "    .dataframe tbody tr th:only-of-type {\n",
       "        vertical-align: middle;\n",
       "    }\n",
       "\n",
       "    .dataframe tbody tr th {\n",
       "        vertical-align: top;\n",
       "    }\n",
       "\n",
       "    .dataframe thead th {\n",
       "        text-align: right;\n",
       "    }\n",
       "</style>\n",
       "<table border=\"1\" class=\"dataframe\">\n",
       "  <thead>\n",
       "    <tr style=\"text-align: right;\">\n",
       "      <th></th>\n",
       "      <th>Location</th>\n",
       "      <th>MinTemp</th>\n",
       "      <th>MaxTemp</th>\n",
       "      <th>Rainfall</th>\n",
       "      <th>Evaporation</th>\n",
       "      <th>Sunshine</th>\n",
       "      <th>WindGustDir</th>\n",
       "      <th>WindGustSpeed</th>\n",
       "      <th>WindDir9am</th>\n",
       "      <th>WindDir3pm</th>\n",
       "      <th>...</th>\n",
       "      <th>Pressure3pm</th>\n",
       "      <th>Cloud9am</th>\n",
       "      <th>Cloud3pm</th>\n",
       "      <th>Temp9am</th>\n",
       "      <th>Temp3pm</th>\n",
       "      <th>RainToday</th>\n",
       "      <th>RainTomorrow</th>\n",
       "      <th>year</th>\n",
       "      <th>month</th>\n",
       "      <th>day</th>\n",
       "    </tr>\n",
       "  </thead>\n",
       "  <tbody>\n",
       "    <tr>\n",
       "      <th>0</th>\n",
       "      <td>Andhra_Pradesh</td>\n",
       "      <td>13.4</td>\n",
       "      <td>22.9</td>\n",
       "      <td>0.6</td>\n",
       "      <td>NaN</td>\n",
       "      <td>NaN</td>\n",
       "      <td>W</td>\n",
       "      <td>44.0</td>\n",
       "      <td>W</td>\n",
       "      <td>WNW</td>\n",
       "      <td>...</td>\n",
       "      <td>1007.1</td>\n",
       "      <td>8.0</td>\n",
       "      <td>NaN</td>\n",
       "      <td>16.9</td>\n",
       "      <td>21.8</td>\n",
       "      <td>No</td>\n",
       "      <td>No</td>\n",
       "      <td>2008</td>\n",
       "      <td>12</td>\n",
       "      <td>1</td>\n",
       "    </tr>\n",
       "    <tr>\n",
       "      <th>1</th>\n",
       "      <td>Andhra_Pradesh</td>\n",
       "      <td>7.4</td>\n",
       "      <td>25.1</td>\n",
       "      <td>0.0</td>\n",
       "      <td>NaN</td>\n",
       "      <td>NaN</td>\n",
       "      <td>WNW</td>\n",
       "      <td>44.0</td>\n",
       "      <td>NNW</td>\n",
       "      <td>WSW</td>\n",
       "      <td>...</td>\n",
       "      <td>1007.8</td>\n",
       "      <td>NaN</td>\n",
       "      <td>NaN</td>\n",
       "      <td>17.2</td>\n",
       "      <td>24.3</td>\n",
       "      <td>No</td>\n",
       "      <td>No</td>\n",
       "      <td>2008</td>\n",
       "      <td>12</td>\n",
       "      <td>2</td>\n",
       "    </tr>\n",
       "    <tr>\n",
       "      <th>2</th>\n",
       "      <td>Andhra_Pradesh</td>\n",
       "      <td>12.9</td>\n",
       "      <td>25.7</td>\n",
       "      <td>0.0</td>\n",
       "      <td>NaN</td>\n",
       "      <td>NaN</td>\n",
       "      <td>WSW</td>\n",
       "      <td>46.0</td>\n",
       "      <td>W</td>\n",
       "      <td>WSW</td>\n",
       "      <td>...</td>\n",
       "      <td>1008.7</td>\n",
       "      <td>NaN</td>\n",
       "      <td>2.0</td>\n",
       "      <td>21.0</td>\n",
       "      <td>23.2</td>\n",
       "      <td>No</td>\n",
       "      <td>No</td>\n",
       "      <td>2008</td>\n",
       "      <td>12</td>\n",
       "      <td>3</td>\n",
       "    </tr>\n",
       "    <tr>\n",
       "      <th>3</th>\n",
       "      <td>Andhra_Pradesh</td>\n",
       "      <td>9.2</td>\n",
       "      <td>28.0</td>\n",
       "      <td>0.0</td>\n",
       "      <td>NaN</td>\n",
       "      <td>NaN</td>\n",
       "      <td>NE</td>\n",
       "      <td>24.0</td>\n",
       "      <td>SE</td>\n",
       "      <td>E</td>\n",
       "      <td>...</td>\n",
       "      <td>1012.8</td>\n",
       "      <td>NaN</td>\n",
       "      <td>NaN</td>\n",
       "      <td>18.1</td>\n",
       "      <td>26.5</td>\n",
       "      <td>No</td>\n",
       "      <td>No</td>\n",
       "      <td>2008</td>\n",
       "      <td>12</td>\n",
       "      <td>4</td>\n",
       "    </tr>\n",
       "    <tr>\n",
       "      <th>4</th>\n",
       "      <td>Andhra_Pradesh</td>\n",
       "      <td>17.5</td>\n",
       "      <td>32.3</td>\n",
       "      <td>1.0</td>\n",
       "      <td>NaN</td>\n",
       "      <td>NaN</td>\n",
       "      <td>W</td>\n",
       "      <td>41.0</td>\n",
       "      <td>ENE</td>\n",
       "      <td>NW</td>\n",
       "      <td>...</td>\n",
       "      <td>1006.0</td>\n",
       "      <td>7.0</td>\n",
       "      <td>8.0</td>\n",
       "      <td>17.8</td>\n",
       "      <td>29.7</td>\n",
       "      <td>No</td>\n",
       "      <td>No</td>\n",
       "      <td>2008</td>\n",
       "      <td>12</td>\n",
       "      <td>5</td>\n",
       "    </tr>\n",
       "  </tbody>\n",
       "</table>\n",
       "<p>5 rows × 25 columns</p>\n",
       "</div>"
      ],
      "text/plain": [
       "         Location  MinTemp  MaxTemp  Rainfall  Evaporation  Sunshine  \\\n",
       "0  Andhra_Pradesh     13.4     22.9       0.6          NaN       NaN   \n",
       "1  Andhra_Pradesh      7.4     25.1       0.0          NaN       NaN   \n",
       "2  Andhra_Pradesh     12.9     25.7       0.0          NaN       NaN   \n",
       "3  Andhra_Pradesh      9.2     28.0       0.0          NaN       NaN   \n",
       "4  Andhra_Pradesh     17.5     32.3       1.0          NaN       NaN   \n",
       "\n",
       "  WindGustDir  WindGustSpeed WindDir9am WindDir3pm  ...  Pressure3pm  \\\n",
       "0           W           44.0          W        WNW  ...       1007.1   \n",
       "1         WNW           44.0        NNW        WSW  ...       1007.8   \n",
       "2         WSW           46.0          W        WSW  ...       1008.7   \n",
       "3          NE           24.0         SE          E  ...       1012.8   \n",
       "4           W           41.0        ENE         NW  ...       1006.0   \n",
       "\n",
       "   Cloud9am  Cloud3pm  Temp9am  Temp3pm  RainToday  RainTomorrow  year  month  \\\n",
       "0       8.0       NaN     16.9     21.8         No            No  2008     12   \n",
       "1       NaN       NaN     17.2     24.3         No            No  2008     12   \n",
       "2       NaN       2.0     21.0     23.2         No            No  2008     12   \n",
       "3       NaN       NaN     18.1     26.5         No            No  2008     12   \n",
       "4       7.0       8.0     17.8     29.7         No            No  2008     12   \n",
       "\n",
       "   day  \n",
       "0    1  \n",
       "1    2  \n",
       "2    3  \n",
       "3    4  \n",
       "4    5  \n",
       "\n",
       "[5 rows x 25 columns]"
      ]
     },
     "execution_count": 6,
     "metadata": {},
     "output_type": "execute_result"
    }
   ],
   "source": [
    "df['Date'] = pd.to_datetime(df['Date'])\n",
    "df['year'] = df['Date'].dt.year\n",
    "df['month'] = df['Date'].dt.month\n",
    "df['day'] = df['Date'].dt.day\n",
    "df.drop(['Date'], axis = 1,inplace=True) \n",
    "df.head()"
   ]
  },
  {
   "cell_type": "markdown",
   "id": "455ebde0",
   "metadata": {},
   "source": [
    "# Replacing Yes with 1 and No with 0"
   ]
  },
  {
   "cell_type": "code",
   "execution_count": 7,
   "id": "036219a1",
   "metadata": {},
   "outputs": [
    {
     "data": {
      "text/html": [
       "<div>\n",
       "<style scoped>\n",
       "    .dataframe tbody tr th:only-of-type {\n",
       "        vertical-align: middle;\n",
       "    }\n",
       "\n",
       "    .dataframe tbody tr th {\n",
       "        vertical-align: top;\n",
       "    }\n",
       "\n",
       "    .dataframe thead th {\n",
       "        text-align: right;\n",
       "    }\n",
       "</style>\n",
       "<table border=\"1\" class=\"dataframe\">\n",
       "  <thead>\n",
       "    <tr style=\"text-align: right;\">\n",
       "      <th></th>\n",
       "      <th>Location</th>\n",
       "      <th>MinTemp</th>\n",
       "      <th>MaxTemp</th>\n",
       "      <th>Rainfall</th>\n",
       "      <th>Evaporation</th>\n",
       "      <th>Sunshine</th>\n",
       "      <th>WindGustDir</th>\n",
       "      <th>WindGustSpeed</th>\n",
       "      <th>WindDir9am</th>\n",
       "      <th>WindDir3pm</th>\n",
       "      <th>...</th>\n",
       "      <th>Pressure3pm</th>\n",
       "      <th>Cloud9am</th>\n",
       "      <th>Cloud3pm</th>\n",
       "      <th>Temp9am</th>\n",
       "      <th>Temp3pm</th>\n",
       "      <th>RainToday</th>\n",
       "      <th>RainTomorrow</th>\n",
       "      <th>year</th>\n",
       "      <th>month</th>\n",
       "      <th>day</th>\n",
       "    </tr>\n",
       "  </thead>\n",
       "  <tbody>\n",
       "    <tr>\n",
       "      <th>0</th>\n",
       "      <td>Andhra_Pradesh</td>\n",
       "      <td>13.4</td>\n",
       "      <td>22.9</td>\n",
       "      <td>0.6</td>\n",
       "      <td>NaN</td>\n",
       "      <td>NaN</td>\n",
       "      <td>W</td>\n",
       "      <td>44.0</td>\n",
       "      <td>W</td>\n",
       "      <td>WNW</td>\n",
       "      <td>...</td>\n",
       "      <td>1007.1</td>\n",
       "      <td>8.0</td>\n",
       "      <td>NaN</td>\n",
       "      <td>16.9</td>\n",
       "      <td>21.8</td>\n",
       "      <td>0.0</td>\n",
       "      <td>0.0</td>\n",
       "      <td>2008</td>\n",
       "      <td>12</td>\n",
       "      <td>1</td>\n",
       "    </tr>\n",
       "    <tr>\n",
       "      <th>1</th>\n",
       "      <td>Andhra_Pradesh</td>\n",
       "      <td>7.4</td>\n",
       "      <td>25.1</td>\n",
       "      <td>0.0</td>\n",
       "      <td>NaN</td>\n",
       "      <td>NaN</td>\n",
       "      <td>WNW</td>\n",
       "      <td>44.0</td>\n",
       "      <td>NNW</td>\n",
       "      <td>WSW</td>\n",
       "      <td>...</td>\n",
       "      <td>1007.8</td>\n",
       "      <td>NaN</td>\n",
       "      <td>NaN</td>\n",
       "      <td>17.2</td>\n",
       "      <td>24.3</td>\n",
       "      <td>0.0</td>\n",
       "      <td>0.0</td>\n",
       "      <td>2008</td>\n",
       "      <td>12</td>\n",
       "      <td>2</td>\n",
       "    </tr>\n",
       "    <tr>\n",
       "      <th>2</th>\n",
       "      <td>Andhra_Pradesh</td>\n",
       "      <td>12.9</td>\n",
       "      <td>25.7</td>\n",
       "      <td>0.0</td>\n",
       "      <td>NaN</td>\n",
       "      <td>NaN</td>\n",
       "      <td>WSW</td>\n",
       "      <td>46.0</td>\n",
       "      <td>W</td>\n",
       "      <td>WSW</td>\n",
       "      <td>...</td>\n",
       "      <td>1008.7</td>\n",
       "      <td>NaN</td>\n",
       "      <td>2.0</td>\n",
       "      <td>21.0</td>\n",
       "      <td>23.2</td>\n",
       "      <td>0.0</td>\n",
       "      <td>0.0</td>\n",
       "      <td>2008</td>\n",
       "      <td>12</td>\n",
       "      <td>3</td>\n",
       "    </tr>\n",
       "    <tr>\n",
       "      <th>3</th>\n",
       "      <td>Andhra_Pradesh</td>\n",
       "      <td>9.2</td>\n",
       "      <td>28.0</td>\n",
       "      <td>0.0</td>\n",
       "      <td>NaN</td>\n",
       "      <td>NaN</td>\n",
       "      <td>NE</td>\n",
       "      <td>24.0</td>\n",
       "      <td>SE</td>\n",
       "      <td>E</td>\n",
       "      <td>...</td>\n",
       "      <td>1012.8</td>\n",
       "      <td>NaN</td>\n",
       "      <td>NaN</td>\n",
       "      <td>18.1</td>\n",
       "      <td>26.5</td>\n",
       "      <td>0.0</td>\n",
       "      <td>0.0</td>\n",
       "      <td>2008</td>\n",
       "      <td>12</td>\n",
       "      <td>4</td>\n",
       "    </tr>\n",
       "    <tr>\n",
       "      <th>4</th>\n",
       "      <td>Andhra_Pradesh</td>\n",
       "      <td>17.5</td>\n",
       "      <td>32.3</td>\n",
       "      <td>1.0</td>\n",
       "      <td>NaN</td>\n",
       "      <td>NaN</td>\n",
       "      <td>W</td>\n",
       "      <td>41.0</td>\n",
       "      <td>ENE</td>\n",
       "      <td>NW</td>\n",
       "      <td>...</td>\n",
       "      <td>1006.0</td>\n",
       "      <td>7.0</td>\n",
       "      <td>8.0</td>\n",
       "      <td>17.8</td>\n",
       "      <td>29.7</td>\n",
       "      <td>0.0</td>\n",
       "      <td>0.0</td>\n",
       "      <td>2008</td>\n",
       "      <td>12</td>\n",
       "      <td>5</td>\n",
       "    </tr>\n",
       "  </tbody>\n",
       "</table>\n",
       "<p>5 rows × 25 columns</p>\n",
       "</div>"
      ],
      "text/plain": [
       "         Location  MinTemp  MaxTemp  Rainfall  Evaporation  Sunshine  \\\n",
       "0  Andhra_Pradesh     13.4     22.9       0.6          NaN       NaN   \n",
       "1  Andhra_Pradesh      7.4     25.1       0.0          NaN       NaN   \n",
       "2  Andhra_Pradesh     12.9     25.7       0.0          NaN       NaN   \n",
       "3  Andhra_Pradesh      9.2     28.0       0.0          NaN       NaN   \n",
       "4  Andhra_Pradesh     17.5     32.3       1.0          NaN       NaN   \n",
       "\n",
       "  WindGustDir  WindGustSpeed WindDir9am WindDir3pm  ...  Pressure3pm  \\\n",
       "0           W           44.0          W        WNW  ...       1007.1   \n",
       "1         WNW           44.0        NNW        WSW  ...       1007.8   \n",
       "2         WSW           46.0          W        WSW  ...       1008.7   \n",
       "3          NE           24.0         SE          E  ...       1012.8   \n",
       "4           W           41.0        ENE         NW  ...       1006.0   \n",
       "\n",
       "   Cloud9am  Cloud3pm  Temp9am  Temp3pm  RainToday  RainTomorrow  year  month  \\\n",
       "0       8.0       NaN     16.9     21.8        0.0           0.0  2008     12   \n",
       "1       NaN       NaN     17.2     24.3        0.0           0.0  2008     12   \n",
       "2       NaN       2.0     21.0     23.2        0.0           0.0  2008     12   \n",
       "3       NaN       NaN     18.1     26.5        0.0           0.0  2008     12   \n",
       "4       7.0       8.0     17.8     29.7        0.0           0.0  2008     12   \n",
       "\n",
       "   day  \n",
       "0    1  \n",
       "1    2  \n",
       "2    3  \n",
       "3    4  \n",
       "4    5  \n",
       "\n",
       "[5 rows x 25 columns]"
      ]
     },
     "execution_count": 7,
     "metadata": {},
     "output_type": "execute_result"
    }
   ],
   "source": [
    "df['RainToday'].replace({'No': 0, 'Yes': 1},inplace = True)\n",
    "df['RainTomorrow'].replace({'No': 0, 'Yes': 1,'NaN':0},inplace = True)\n",
    "df.head()"
   ]
  },
  {
   "cell_type": "markdown",
   "id": "4d2701a1",
   "metadata": {},
   "source": [
    "# Checking for Null Values"
   ]
  },
  {
   "cell_type": "code",
   "execution_count": 8,
   "id": "cd00e663",
   "metadata": {},
   "outputs": [
    {
     "data": {
      "text/plain": [
       "Location             0\n",
       "MinTemp           1485\n",
       "MaxTemp           1261\n",
       "Rainfall          3261\n",
       "Evaporation      62790\n",
       "Sunshine         69835\n",
       "WindGustDir      10326\n",
       "WindGustSpeed    10263\n",
       "WindDir9am       10566\n",
       "WindDir3pm        4228\n",
       "WindSpeed9am      1767\n",
       "WindSpeed3pm      3062\n",
       "Humidity9am       2654\n",
       "Humidity3pm       4507\n",
       "Pressure9am      15065\n",
       "Pressure3pm      15028\n",
       "Cloud9am         55888\n",
       "Cloud3pm         59358\n",
       "Temp9am           1767\n",
       "Temp3pm           3609\n",
       "RainToday         3261\n",
       "RainTomorrow      3267\n",
       "year                 0\n",
       "month                0\n",
       "day                  0\n",
       "dtype: int64"
      ]
     },
     "execution_count": 8,
     "metadata": {},
     "output_type": "execute_result"
    }
   ],
   "source": [
    "df.isnull().sum()"
   ]
  },
  {
   "cell_type": "code",
   "execution_count": 9,
   "id": "fea59f0f",
   "metadata": {},
   "outputs": [
    {
     "data": {
      "text/plain": [
       "0"
      ]
     },
     "execution_count": 9,
     "metadata": {},
     "output_type": "execute_result"
    }
   ],
   "source": [
    "df.Location.isnull().sum()"
   ]
  },
  {
   "cell_type": "code",
   "execution_count": 10,
   "id": "94846ded",
   "metadata": {},
   "outputs": [
    {
     "data": {
      "text/plain": [
       "10326"
      ]
     },
     "execution_count": 10,
     "metadata": {},
     "output_type": "execute_result"
    }
   ],
   "source": [
    "df.WindGustDir.isnull().sum()"
   ]
  },
  {
   "cell_type": "code",
   "execution_count": 11,
   "id": "25095e1c",
   "metadata": {},
   "outputs": [
    {
     "data": {
      "text/plain": [
       "10566"
      ]
     },
     "execution_count": 11,
     "metadata": {},
     "output_type": "execute_result"
    }
   ],
   "source": [
    "df.WindDir9am.isnull().sum()"
   ]
  },
  {
   "cell_type": "code",
   "execution_count": 12,
   "id": "24365c66",
   "metadata": {},
   "outputs": [
    {
     "data": {
      "text/plain": [
       "4228"
      ]
     },
     "execution_count": 12,
     "metadata": {},
     "output_type": "execute_result"
    }
   ],
   "source": [
    "df.WindDir3pm.isnull().sum()"
   ]
  },
  {
   "cell_type": "markdown",
   "id": "366ee65d",
   "metadata": {},
   "source": [
    "# Replacing Null Values in Categorical Variables"
   ]
  },
  {
   "cell_type": "code",
   "execution_count": 13,
   "id": "d14f6e42",
   "metadata": {},
   "outputs": [],
   "source": [
    "df[\"WindGustDir\"] = df[\"WindGustDir\"].fillna(df[\"WindGustDir\"].value_counts().index[0])\n",
    "df[\"WindDir9am\"] = df[\"WindDir9am\"].fillna(df[\"WindDir9am\"].value_counts().index[0])\n",
    "df[\"WindDir3pm\"] = df[\"WindDir3pm\"].fillna(df[\"WindDir3pm\"].value_counts().index[0])"
   ]
  },
  {
   "cell_type": "code",
   "execution_count": 14,
   "id": "7704676f",
   "metadata": {},
   "outputs": [
    {
     "name": "stdout",
     "output_type": "stream",
     "text": [
      "0\n",
      "0\n",
      "0\n"
     ]
    }
   ],
   "source": [
    "print(df.WindGustDir.isnull().sum())\n",
    "print(df.WindDir9am.isnull().sum())\n",
    "print(df.WindDir3pm.isnull().sum())"
   ]
  },
  {
   "cell_type": "code",
   "execution_count": 15,
   "id": "d4381580",
   "metadata": {},
   "outputs": [
    {
     "name": "stdout",
     "output_type": "stream",
     "text": [
      "0    0.0\n",
      "Name: RainToday, dtype: float64\n"
     ]
    }
   ],
   "source": [
    "#RainToday\n",
    "rtoday = df[\"RainToday\"].mode()\n",
    "print(rtoday)\n",
    "df[\"RainToday\"].fillna(value=0.0, inplace = True)"
   ]
  },
  {
   "cell_type": "code",
   "execution_count": 16,
   "id": "4b2e0227",
   "metadata": {},
   "outputs": [
    {
     "name": "stdout",
     "output_type": "stream",
     "text": [
      "0    0.0\n",
      "Name: RainTomorrow, dtype: float64\n"
     ]
    }
   ],
   "source": [
    "#RainTomorrow\n",
    "rtmomax = df[\"RainTomorrow\"].mode()\n",
    "print(rtmomax)\n",
    "df[\"RainTomorrow\"].fillna(value=0.0, inplace = True)"
   ]
  },
  {
   "cell_type": "markdown",
   "id": "adcdd222",
   "metadata": {},
   "source": [
    "# Label Encoding the Data :"
   ]
  },
  {
   "cell_type": "code",
   "execution_count": 17,
   "id": "ee6c3d02",
   "metadata": {},
   "outputs": [],
   "source": [
    "Loc = LabelEncoder()\n",
    "wingustdir = LabelEncoder()\n",
    "windir9am = LabelEncoder()\n",
    "windir3pm = LabelEncoder()\n",
    "\n",
    "df[\"Location_cl\"]=Loc.fit_transform(df[\"Location\"])\n",
    "df[\"WindGustDir_cl\"]=wingustdir.fit_transform(df[\"WindGustDir\"])\n",
    "df[\"WindDir9am_cl\"]=windir9am.fit_transform(df[\"WindDir9am\"])\n",
    "df[\"WindDir3pm_cl\"]=windir3pm.fit_transform(df[\"WindDir3pm\"])\n",
    "df = df.drop([\"Location\",\"WindGustDir\",\"WindDir9am\",\"WindDir3pm\"],axis = 1)"
   ]
  },
  {
   "cell_type": "markdown",
   "id": "124dd267",
   "metadata": {},
   "source": [
    "# Replacing Null Values in Continuous Variables with Mean and Mode :"
   ]
  },
  {
   "cell_type": "code",
   "execution_count": 18,
   "id": "fd01f8e1",
   "metadata": {},
   "outputs": [
    {
     "data": {
      "text/html": [
       "<div>\n",
       "<style scoped>\n",
       "    .dataframe tbody tr th:only-of-type {\n",
       "        vertical-align: middle;\n",
       "    }\n",
       "\n",
       "    .dataframe tbody tr th {\n",
       "        vertical-align: top;\n",
       "    }\n",
       "\n",
       "    .dataframe thead th {\n",
       "        text-align: right;\n",
       "    }\n",
       "</style>\n",
       "<table border=\"1\" class=\"dataframe\">\n",
       "  <thead>\n",
       "    <tr style=\"text-align: right;\">\n",
       "      <th></th>\n",
       "      <th>MinTemp</th>\n",
       "      <th>MaxTemp</th>\n",
       "      <th>Rainfall</th>\n",
       "      <th>Evaporation</th>\n",
       "      <th>Sunshine</th>\n",
       "      <th>WindGustSpeed</th>\n",
       "      <th>WindSpeed9am</th>\n",
       "      <th>WindSpeed3pm</th>\n",
       "      <th>Humidity9am</th>\n",
       "      <th>Humidity3pm</th>\n",
       "      <th>...</th>\n",
       "      <th>Temp3pm</th>\n",
       "      <th>RainToday</th>\n",
       "      <th>RainTomorrow</th>\n",
       "      <th>year</th>\n",
       "      <th>month</th>\n",
       "      <th>day</th>\n",
       "      <th>Location_cl</th>\n",
       "      <th>WindGustDir_cl</th>\n",
       "      <th>WindDir9am_cl</th>\n",
       "      <th>WindDir3pm_cl</th>\n",
       "    </tr>\n",
       "  </thead>\n",
       "  <tbody>\n",
       "    <tr>\n",
       "      <th>145455</th>\n",
       "      <td>2.8</td>\n",
       "      <td>23.400000</td>\n",
       "      <td>0.0</td>\n",
       "      <td>5.468232</td>\n",
       "      <td>7.611178</td>\n",
       "      <td>31.00000</td>\n",
       "      <td>13.0</td>\n",
       "      <td>11.0</td>\n",
       "      <td>51.0</td>\n",
       "      <td>24.0</td>\n",
       "      <td>...</td>\n",
       "      <td>22.4</td>\n",
       "      <td>0.0</td>\n",
       "      <td>0.0</td>\n",
       "      <td>2017</td>\n",
       "      <td>6</td>\n",
       "      <td>21</td>\n",
       "      <td>34</td>\n",
       "      <td>0</td>\n",
       "      <td>9</td>\n",
       "      <td>1</td>\n",
       "    </tr>\n",
       "    <tr>\n",
       "      <th>145456</th>\n",
       "      <td>3.6</td>\n",
       "      <td>25.300000</td>\n",
       "      <td>0.0</td>\n",
       "      <td>5.468232</td>\n",
       "      <td>7.611178</td>\n",
       "      <td>22.00000</td>\n",
       "      <td>13.0</td>\n",
       "      <td>9.0</td>\n",
       "      <td>56.0</td>\n",
       "      <td>21.0</td>\n",
       "      <td>...</td>\n",
       "      <td>24.5</td>\n",
       "      <td>0.0</td>\n",
       "      <td>0.0</td>\n",
       "      <td>2017</td>\n",
       "      <td>6</td>\n",
       "      <td>22</td>\n",
       "      <td>34</td>\n",
       "      <td>6</td>\n",
       "      <td>9</td>\n",
       "      <td>3</td>\n",
       "    </tr>\n",
       "    <tr>\n",
       "      <th>145457</th>\n",
       "      <td>5.4</td>\n",
       "      <td>26.900000</td>\n",
       "      <td>0.0</td>\n",
       "      <td>5.468232</td>\n",
       "      <td>7.611178</td>\n",
       "      <td>37.00000</td>\n",
       "      <td>9.0</td>\n",
       "      <td>9.0</td>\n",
       "      <td>53.0</td>\n",
       "      <td>24.0</td>\n",
       "      <td>...</td>\n",
       "      <td>26.1</td>\n",
       "      <td>0.0</td>\n",
       "      <td>0.0</td>\n",
       "      <td>2017</td>\n",
       "      <td>6</td>\n",
       "      <td>23</td>\n",
       "      <td>34</td>\n",
       "      <td>3</td>\n",
       "      <td>9</td>\n",
       "      <td>14</td>\n",
       "    </tr>\n",
       "    <tr>\n",
       "      <th>145458</th>\n",
       "      <td>7.8</td>\n",
       "      <td>27.000000</td>\n",
       "      <td>0.0</td>\n",
       "      <td>5.468232</td>\n",
       "      <td>7.611178</td>\n",
       "      <td>28.00000</td>\n",
       "      <td>13.0</td>\n",
       "      <td>7.0</td>\n",
       "      <td>51.0</td>\n",
       "      <td>24.0</td>\n",
       "      <td>...</td>\n",
       "      <td>26.0</td>\n",
       "      <td>0.0</td>\n",
       "      <td>0.0</td>\n",
       "      <td>2017</td>\n",
       "      <td>6</td>\n",
       "      <td>24</td>\n",
       "      <td>34</td>\n",
       "      <td>9</td>\n",
       "      <td>10</td>\n",
       "      <td>3</td>\n",
       "    </tr>\n",
       "    <tr>\n",
       "      <th>145459</th>\n",
       "      <td>14.9</td>\n",
       "      <td>23.221348</td>\n",
       "      <td>0.0</td>\n",
       "      <td>5.468232</td>\n",
       "      <td>7.611178</td>\n",
       "      <td>40.03523</td>\n",
       "      <td>17.0</td>\n",
       "      <td>17.0</td>\n",
       "      <td>62.0</td>\n",
       "      <td>36.0</td>\n",
       "      <td>...</td>\n",
       "      <td>20.9</td>\n",
       "      <td>0.0</td>\n",
       "      <td>0.0</td>\n",
       "      <td>2017</td>\n",
       "      <td>6</td>\n",
       "      <td>25</td>\n",
       "      <td>34</td>\n",
       "      <td>13</td>\n",
       "      <td>2</td>\n",
       "      <td>2</td>\n",
       "    </tr>\n",
       "  </tbody>\n",
       "</table>\n",
       "<p>5 rows × 25 columns</p>\n",
       "</div>"
      ],
      "text/plain": [
       "        MinTemp    MaxTemp  Rainfall  Evaporation  Sunshine  WindGustSpeed  \\\n",
       "145455      2.8  23.400000       0.0     5.468232  7.611178       31.00000   \n",
       "145456      3.6  25.300000       0.0     5.468232  7.611178       22.00000   \n",
       "145457      5.4  26.900000       0.0     5.468232  7.611178       37.00000   \n",
       "145458      7.8  27.000000       0.0     5.468232  7.611178       28.00000   \n",
       "145459     14.9  23.221348       0.0     5.468232  7.611178       40.03523   \n",
       "\n",
       "        WindSpeed9am  WindSpeed3pm  Humidity9am  Humidity3pm  ...  Temp3pm  \\\n",
       "145455          13.0          11.0         51.0         24.0  ...     22.4   \n",
       "145456          13.0           9.0         56.0         21.0  ...     24.5   \n",
       "145457           9.0           9.0         53.0         24.0  ...     26.1   \n",
       "145458          13.0           7.0         51.0         24.0  ...     26.0   \n",
       "145459          17.0          17.0         62.0         36.0  ...     20.9   \n",
       "\n",
       "        RainToday  RainTomorrow  year  month  day  Location_cl  \\\n",
       "145455        0.0           0.0  2017      6   21           34   \n",
       "145456        0.0           0.0  2017      6   22           34   \n",
       "145457        0.0           0.0  2017      6   23           34   \n",
       "145458        0.0           0.0  2017      6   24           34   \n",
       "145459        0.0           0.0  2017      6   25           34   \n",
       "\n",
       "        WindGustDir_cl  WindDir9am_cl  WindDir3pm_cl  \n",
       "145455               0              9              1  \n",
       "145456               6              9              3  \n",
       "145457               3              9             14  \n",
       "145458               9             10              3  \n",
       "145459              13              2              2  \n",
       "\n",
       "[5 rows x 25 columns]"
      ]
     },
     "execution_count": 18,
     "metadata": {},
     "output_type": "execute_result"
    }
   ],
   "source": [
    "#MinTemp\n",
    "minTemp = df[\"MinTemp\"].mean()\n",
    "df[\"MinTemp\"].fillna(value=minTemp, inplace = True)\n",
    "\n",
    "#MaxTemp\n",
    "maxTemp = df[\"MaxTemp\"].mean()\n",
    "df[\"MaxTemp\"].fillna(value=maxTemp, inplace = True)\n",
    "\n",
    "#Rainfall\n",
    "rainfall = df[\"Rainfall\"].mean()\n",
    "df[\"Rainfall\"].fillna(value=rainfall, inplace = True)\n",
    "\n",
    "#Evaporation\n",
    "evapo = df[\"Evaporation\"].mean()\n",
    "df[\"Evaporation\"].fillna(value=evapo, inplace = True)\n",
    "\n",
    "#Sunshine\n",
    "sunshine = df[\"Sunshine\"].mean()\n",
    "df[\"Sunshine\"].fillna(value=sunshine, inplace = True)\n",
    "\n",
    "#WindGustSpeed\n",
    "wgspeed = df[\"WindGustSpeed\"].mean()\n",
    "df[\"WindGustSpeed\"].fillna(value=wgspeed, inplace = True)\n",
    "\n",
    "#WindSpeed9am\n",
    "ws9am = df[\"WindSpeed9am\"].mean()\n",
    "df[\"WindSpeed9am\"].fillna(value=ws9am, inplace = True)\n",
    "\n",
    "#WindSpeed3pm\n",
    "ws3pm = df[\"WindSpeed3pm\"].mean()\n",
    "df[\"WindSpeed3pm\"].fillna(value=ws3pm, inplace = True)\n",
    "\n",
    "#Humidity9am\n",
    "h9am= df[\"Humidity9am\"].mean()\n",
    "df[\"Humidity9am\"].fillna(value=h9am, inplace = True)\n",
    "\n",
    "#Humidity3pm\n",
    "h3pm = df[\"Humidity3pm\"].mean()\n",
    "df[\"Humidity3pm\"].fillna(value=h3pm, inplace = True)\n",
    "\n",
    "#Pressure9am\n",
    "p9am = df[\"Pressure9am\"].mean()\n",
    "df[\"Pressure9am\"].fillna(value=p9am, inplace = True)\n",
    "\n",
    "#Pressure3pm\n",
    "p3pm = df[\"Pressure3pm\"].mean()\n",
    "df[\"Pressure3pm\"].fillna(value=p3pm, inplace = True)\n",
    "\n",
    "#Cloud9am\n",
    "c9am = df[\"Cloud9am\"].mean()\n",
    "df[\"Cloud9am\"].fillna(value=c9am, inplace = True)\n",
    "\n",
    "#Cloud3pm\n",
    "c3pm = df[\"Cloud3pm\"].mean()\n",
    "df[\"Cloud3pm\"].fillna(value=c3pm, inplace = True)\n",
    "\n",
    "#Temp9am\n",
    "temp9am = df[\"Temp9am\"].mean()\n",
    "df[\"Temp9am\"].fillna(value=temp9am, inplace = True)\n",
    "\n",
    "#Temp3pm\n",
    "temp3pm = df[\"Temp3pm\"].mean()\n",
    "df[\"Temp3pm\"].fillna(value=temp3pm, inplace = True)\n",
    "\n",
    "df.tail()"
   ]
  },
  {
   "cell_type": "code",
   "execution_count": 19,
   "id": "d5ba12e0",
   "metadata": {},
   "outputs": [
    {
     "data": {
      "text/plain": [
       "MinTemp           0\n",
       "MaxTemp           0\n",
       "Rainfall          0\n",
       "Evaporation       0\n",
       "Sunshine          0\n",
       "WindGustSpeed     0\n",
       "WindSpeed9am      0\n",
       "WindSpeed3pm      0\n",
       "Humidity9am       0\n",
       "Humidity3pm       0\n",
       "Pressure9am       0\n",
       "Pressure3pm       0\n",
       "Cloud9am          0\n",
       "Cloud3pm          0\n",
       "Temp9am           0\n",
       "Temp3pm           0\n",
       "RainToday         0\n",
       "RainTomorrow      0\n",
       "year              0\n",
       "month             0\n",
       "day               0\n",
       "Location_cl       0\n",
       "WindGustDir_cl    0\n",
       "WindDir9am_cl     0\n",
       "WindDir3pm_cl     0\n",
       "dtype: int64"
      ]
     },
     "execution_count": 19,
     "metadata": {},
     "output_type": "execute_result"
    }
   ],
   "source": [
    "df.isnull().sum()"
   ]
  },
  {
   "cell_type": "markdown",
   "id": "c76f0193",
   "metadata": {},
   "source": [
    "# Label_Encoding_Details"
   ]
  },
  {
   "cell_type": "code",
   "execution_count": 20,
   "id": "3296432b",
   "metadata": {},
   "outputs": [
    {
     "data": {
      "text/plain": [
       "{0: 'Andhmar_and_Nicobar_Islands',\n",
       " 1: 'Andhra_Pradesh',\n",
       " 2: 'Arunachal_Pradesh',\n",
       " 3: 'Assam',\n",
       " 4: 'Bihar',\n",
       " 5: 'Chandigarh',\n",
       " 6: 'Chattisgarh',\n",
       " 7: 'Dadra_and_Nagar_Haveli',\n",
       " 8: 'Delhi',\n",
       " 9: 'Diu_and_Daman',\n",
       " 10: 'Goa',\n",
       " 11: 'Gujrat',\n",
       " 12: 'Haryana',\n",
       " 13: 'Himachal_Pradesh',\n",
       " 14: 'Jammu_and_Kashmir',\n",
       " 15: 'Jharkhand',\n",
       " 16: 'Karnataka',\n",
       " 17: 'Kerala',\n",
       " 18: 'Ladakh',\n",
       " 19: 'Lakshadweep',\n",
       " 20: 'Madhya_Pradesh',\n",
       " 21: 'Maharashtra',\n",
       " 22: 'Manipur',\n",
       " 23: 'Meghalaya',\n",
       " 24: 'Mizoram',\n",
       " 25: 'Nagaland',\n",
       " 26: 'Odisha',\n",
       " 27: 'Puddhucherry',\n",
       " 28: 'Punjab',\n",
       " 29: 'Rajasthan',\n",
       " 30: 'Sikkim',\n",
       " 31: 'Tamil_Nadu',\n",
       " 32: 'Telangana',\n",
       " 33: 'Tripura',\n",
       " 34: 'Uttar_Pradesh',\n",
       " 35: 'Uttarakhand',\n",
       " 36: 'West_Bengal'}"
      ]
     },
     "execution_count": 20,
     "metadata": {},
     "output_type": "execute_result"
    }
   ],
   "source": [
    "mapping_location = {index: label for index,label in enumerate(Loc.classes_)}\n",
    "mapping_location"
   ]
  },
  {
   "cell_type": "code",
   "execution_count": 21,
   "id": "9dd2fde3",
   "metadata": {},
   "outputs": [
    {
     "data": {
      "text/plain": [
       "{0: 'E',\n",
       " 1: 'ENE',\n",
       " 2: 'ESE',\n",
       " 3: 'N',\n",
       " 4: 'NE',\n",
       " 5: 'NNE',\n",
       " 6: 'NNW',\n",
       " 7: 'NW',\n",
       " 8: 'S',\n",
       " 9: 'SE',\n",
       " 10: 'SSE',\n",
       " 11: 'SSW',\n",
       " 12: 'SW',\n",
       " 13: 'W',\n",
       " 14: 'WNW',\n",
       " 15: 'WSW'}"
      ]
     },
     "execution_count": 21,
     "metadata": {},
     "output_type": "execute_result"
    }
   ],
   "source": [
    "mapping_wingustdir = {index: label for index,label in enumerate(wingustdir.classes_)}\n",
    "mapping_wingustdir"
   ]
  },
  {
   "cell_type": "code",
   "execution_count": 22,
   "id": "3ad4e3a3",
   "metadata": {},
   "outputs": [
    {
     "data": {
      "text/plain": [
       "{0: 'E',\n",
       " 1: 'ENE',\n",
       " 2: 'ESE',\n",
       " 3: 'N',\n",
       " 4: 'NE',\n",
       " 5: 'NNE',\n",
       " 6: 'NNW',\n",
       " 7: 'NW',\n",
       " 8: 'S',\n",
       " 9: 'SE',\n",
       " 10: 'SSE',\n",
       " 11: 'SSW',\n",
       " 12: 'SW',\n",
       " 13: 'W',\n",
       " 14: 'WNW',\n",
       " 15: 'WSW'}"
      ]
     },
     "execution_count": 22,
     "metadata": {},
     "output_type": "execute_result"
    }
   ],
   "source": [
    "mapping_windir9am = {index: label for index,label in enumerate(windir9am.classes_)}\n",
    "mapping_windir9am"
   ]
  },
  {
   "cell_type": "code",
   "execution_count": 23,
   "id": "10d6602d",
   "metadata": {},
   "outputs": [
    {
     "data": {
      "text/plain": [
       "{0: 'E',\n",
       " 1: 'ENE',\n",
       " 2: 'ESE',\n",
       " 3: 'N',\n",
       " 4: 'NE',\n",
       " 5: 'NNE',\n",
       " 6: 'NNW',\n",
       " 7: 'NW',\n",
       " 8: 'S',\n",
       " 9: 'SE',\n",
       " 10: 'SSE',\n",
       " 11: 'SSW',\n",
       " 12: 'SW',\n",
       " 13: 'W',\n",
       " 14: 'WNW',\n",
       " 15: 'WSW'}"
      ]
     },
     "execution_count": 23,
     "metadata": {},
     "output_type": "execute_result"
    }
   ],
   "source": [
    "mapping_windir3pm = {index: label for index,label in enumerate(windir3pm.classes_)}\n",
    "mapping_windir3pm"
   ]
  },
  {
   "cell_type": "markdown",
   "id": "5be3dc2d",
   "metadata": {},
   "source": [
    "# Exploratory_Data_Analysis"
   ]
  },
  {
   "cell_type": "code",
   "execution_count": 24,
   "id": "9ccba91d",
   "metadata": {},
   "outputs": [
    {
     "data": {
      "image/png": "[encoded data removed]",
      "text/plain": [
       "<Figure size 1400x1400 with 23 Axes>"
      ]
     },
     "metadata": {},
     "output_type": "display_data"
    }
   ],
   "source": [
    "numeric_cols = df.drop([\"RainTomorrow\",\"RainToday\"], axis=1)\n",
    "plt.figure(figsize=(14, 14))\n",
    "plt.subplots_adjust(hspace=0.5)\n",
    "\n",
    "for i, col in enumerate(numeric_cols, 1):\n",
    "    plt.subplot(4, 6, i)\n",
    "    sns.boxplot(x=df[col])\n",
    "    plt.title(col)\n",
    "plt.show()"
   ]
  },
  {
   "cell_type": "markdown",
   "id": "4bc07d46",
   "metadata": {},
   "source": [
    "# Removing Outliers from Dataset :"
   ]
  },
  {
   "cell_type": "markdown",
   "id": "994468d8",
   "metadata": {},
   "source": [
    "# MinTemp"
   ]
  },
  {
   "cell_type": "code",
   "execution_count": 25,
   "id": "af62fe7c",
   "metadata": {},
   "outputs": [
    {
     "name": "stdout",
     "output_type": "stream",
     "text": [
      "-5.950000000000002 30.450000000000003\n",
      "9.100000000000001\n"
     ]
    }
   ],
   "source": [
    "IQR=df.MinTemp.quantile(0.75)-df.MinTemp.quantile(0.25)\n",
    "lower_bridge=df.MinTemp.quantile(0.25)-(IQR*1.5)\n",
    "upper_bridge=df.MinTemp.quantile(0.75)+(IQR*1.5)\n",
    "print(lower_bridge, upper_bridge)\n",
    "print(df.MinTemp.quantile(0.75) -df.MinTemp.quantile(0.25))"
   ]
  },
  {
   "cell_type": "code",
   "execution_count": 26,
   "id": "e742043e",
   "metadata": {},
   "outputs": [],
   "source": [
    "df.loc[df['MinTemp']>=30.450000000000003,'MinTemp']=30.450000000000003\n",
    "df.loc[df['MinTemp']<=-5.950000000000002,'MinTemp']=-5.950000000000002"
   ]
  },
  {
   "cell_type": "markdown",
   "id": "42277ed6",
   "metadata": {},
   "source": [
    "# MaxTemp"
   ]
  },
  {
   "cell_type": "code",
   "execution_count": 27,
   "id": "c26f3116",
   "metadata": {},
   "outputs": [
    {
     "name": "stdout",
     "output_type": "stream",
     "text": [
      "2.700000000000001 43.5\n",
      "10.2\n"
     ]
    }
   ],
   "source": [
    "IQR=df.MaxTemp.quantile(0.75)-df.MaxTemp.quantile(0.25)\n",
    "lower_bridge=df.MaxTemp.quantile(0.25)-(IQR*1.5)\n",
    "upper_bridge=df.MaxTemp.quantile(0.75)+(IQR*1.5)\n",
    "print(lower_bridge, upper_bridge)\n",
    "print(df.MaxTemp.quantile(0.75) -df.MaxTemp.quantile(0.25))"
   ]
  },
  {
   "cell_type": "code",
   "execution_count": 28,
   "id": "4ec82a31",
   "metadata": {},
   "outputs": [],
   "source": [
    "df.loc[df['MaxTemp']>=43.5,'MaxTemp']=43.5\n",
    "df.loc[df['MaxTemp']<=2.700000000000001,'MaxTemp']=2.700000000000001"
   ]
  },
  {
   "cell_type": "markdown",
   "id": "b555395a",
   "metadata": {},
   "source": [
    "# Rainfall"
   ]
  },
  {
   "cell_type": "code",
   "execution_count": 29,
   "id": "b9da2c5f",
   "metadata": {},
   "outputs": [
    {
     "name": "stdout",
     "output_type": "stream",
     "text": [
      "-1.5 2.5\n",
      "1.0\n"
     ]
    }
   ],
   "source": [
    "IQR=df.Rainfall.quantile(0.75)-df.Rainfall.quantile(0.25)\n",
    "lower_bridge=df.Rainfall.quantile(0.25)-(IQR*1.5)\n",
    "upper_bridge=df.Rainfall.quantile(0.75)+(IQR*1.5)\n",
    "print(lower_bridge, upper_bridge)\n",
    "print(df.Rainfall.quantile(0.75) -df.Rainfall.quantile(0.25))"
   ]
  },
  {
   "cell_type": "code",
   "execution_count": 30,
   "id": "9db39f49",
   "metadata": {},
   "outputs": [],
   "source": [
    "df.loc[df['Rainfall']>=2.5,'Rainfall']=2.5\n",
    "df.loc[df['Rainfall']<=-1.5,'Rainfall']=-1.5"
   ]
  },
  {
   "cell_type": "markdown",
   "id": "ccc461b7",
   "metadata": {},
   "source": [
    "# Evaporation"
   ]
  },
  {
   "cell_type": "code",
   "execution_count": 31,
   "id": "80af995b",
   "metadata": {},
   "outputs": [
    {
     "name": "stdout",
     "output_type": "stream",
     "text": [
      "1.797652715616307 7.670578807306155\n",
      "1.468231522922462\n"
     ]
    }
   ],
   "source": [
    "IQR=df.Evaporation.quantile(0.75)-df.Evaporation.quantile(0.25)\n",
    "lower_bridge=df.Evaporation.quantile(0.25)-(IQR*1.5)\n",
    "upper_bridge=df.Evaporation.quantile(0.75)+(IQR*1.5)\n",
    "print(lower_bridge, upper_bridge)\n",
    "print(df.Evaporation.quantile(0.75) -df.Evaporation.quantile(0.25))"
   ]
  },
  {
   "cell_type": "code",
   "execution_count": 32,
   "id": "2f822131",
   "metadata": {},
   "outputs": [],
   "source": [
    "df.loc[df['Evaporation']>=7.670578807306155,'Evaporation']=7.670578807306155\n",
    "df.loc[df['Evaporation']<=1.797652715616307,'Evaporation']=1.797652715616307"
   ]
  },
  {
   "cell_type": "markdown",
   "id": "49a82cbf",
   "metadata": {},
   "source": [
    "# Sunshine"
   ]
  },
  {
   "cell_type": "code",
   "execution_count": 33,
   "id": "36eda27b",
   "metadata": {},
   "outputs": [
    {
     "name": "stdout",
     "output_type": "stream",
     "text": [
      "5.977943801652892 10.333233719008263\n",
      "1.0888224793388428\n"
     ]
    }
   ],
   "source": [
    "IQR=df.Sunshine.quantile(0.75)-df.Sunshine.quantile(0.25)\n",
    "lower_bridge=df.Sunshine.quantile(0.25)-(IQR*1.5)\n",
    "upper_bridge=df.Sunshine.quantile(0.75)+(IQR*1.5)\n",
    "print(lower_bridge, upper_bridge)\n",
    "print(df.Sunshine.quantile(0.75) -df.Sunshine.quantile(0.25))"
   ]
  },
  {
   "cell_type": "code",
   "execution_count": 34,
   "id": "ff7de10e",
   "metadata": {},
   "outputs": [],
   "source": [
    "df.loc[df['Sunshine']>=10.333233719008263,'Sunshine']=10.333233719008263\n",
    "df.loc[df['Sunshine']<=5.977943801652892,'Sunshine']=5.977943801652892"
   ]
  },
  {
   "cell_type": "markdown",
   "id": "b76a9e45",
   "metadata": {},
   "source": [
    "# WindGustSpeed"
   ]
  },
  {
   "cell_type": "code",
   "execution_count": 35,
   "id": "64396033",
   "metadata": {},
   "outputs": [
    {
     "name": "stdout",
     "output_type": "stream",
     "text": [
      "8.5 68.5\n",
      "15.0\n"
     ]
    }
   ],
   "source": [
    "IQR=df.WindGustSpeed.quantile(0.75)-df.WindGustSpeed.quantile(0.25)\n",
    "lower_bridge=df.WindGustSpeed.quantile(0.25)-(IQR*1.5)\n",
    "upper_bridge=df.WindGustSpeed.quantile(0.75)+(IQR*1.5)\n",
    "print(lower_bridge, upper_bridge)\n",
    "print(df.WindGustSpeed.quantile(0.75) -df.WindGustSpeed.quantile(0.25))"
   ]
  },
  {
   "cell_type": "code",
   "execution_count": 36,
   "id": "b0423745",
   "metadata": {},
   "outputs": [],
   "source": [
    "df.loc[df['WindGustSpeed']>=68.5,'WindGustSpeed']=68.5\n",
    "df.loc[df['WindGustSpeed']<=8.5,'WindGustSpeed']=8.5"
   ]
  },
  {
   "cell_type": "markdown",
   "id": "c8eea1ef",
   "metadata": {},
   "source": [
    "# WindSpeed9am"
   ]
  },
  {
   "cell_type": "code",
   "execution_count": 37,
   "id": "c77211e6",
   "metadata": {},
   "outputs": [
    {
     "name": "stdout",
     "output_type": "stream",
     "text": [
      "-11.0 37.0\n",
      "12.0\n"
     ]
    }
   ],
   "source": [
    "IQR=df.WindSpeed9am.quantile(0.75)-df.WindSpeed9am.quantile(0.25)\n",
    "lower_bridge=df.WindSpeed9am.quantile(0.25)-(IQR*1.5)\n",
    "upper_bridge=df.WindSpeed9am.quantile(0.75)+(IQR*1.5)\n",
    "print(lower_bridge, upper_bridge)\n",
    "print(df.WindSpeed9am.quantile(0.75) -df.WindSpeed9am.quantile(0.25))"
   ]
  },
  {
   "cell_type": "code",
   "execution_count": 38,
   "id": "9031f197",
   "metadata": {},
   "outputs": [],
   "source": [
    "df.loc[df['WindSpeed9am']>=37,'WindSpeed9am']=37\n",
    "df.loc[df['WindSpeed9am']<=-11,'WindSpeed9am']=-11"
   ]
  },
  {
   "cell_type": "markdown",
   "id": "b39ef295",
   "metadata": {},
   "source": [
    "# WindSpeed3pm"
   ]
  },
  {
   "cell_type": "code",
   "execution_count": 39,
   "id": "118cf74a",
   "metadata": {},
   "outputs": [
    {
     "name": "stdout",
     "output_type": "stream",
     "text": [
      "-3.5 40.5\n",
      "11.0\n"
     ]
    }
   ],
   "source": [
    "IQR=df.WindSpeed3pm.quantile(0.75)-df.WindSpeed3pm.quantile(0.25)\n",
    "lower_bridge=df.WindSpeed3pm.quantile(0.25)-(IQR*1.5)\n",
    "upper_bridge=df.WindSpeed3pm.quantile(0.75)+(IQR*1.5)\n",
    "print(lower_bridge, upper_bridge)\n",
    "print(df.WindSpeed3pm.quantile(0.75) -df.WindSpeed3pm.quantile(0.25))"
   ]
  },
  {
   "cell_type": "code",
   "execution_count": 40,
   "id": "982c7303",
   "metadata": {},
   "outputs": [],
   "source": [
    "df.loc[df['WindSpeed3pm']>40.5,'WindSpeed3pm']=40.5\n",
    "df.loc[df['WindSpeed3pm']<=-3.5,'WindSpeed3pm']=-3.5"
   ]
  },
  {
   "cell_type": "markdown",
   "id": "57432fd6",
   "metadata": {},
   "source": [
    "# Humidity9am "
   ]
  },
  {
   "cell_type": "code",
   "execution_count": 41,
   "id": "60f75b84",
   "metadata": {},
   "outputs": [
    {
     "name": "stdout",
     "output_type": "stream",
     "text": [
      "18.0 122.0\n",
      "26.0\n"
     ]
    }
   ],
   "source": [
    "IQR=df.Humidity9am.quantile(0.75)-df.Humidity9am.quantile(0.25)\n",
    "lower_bridge=df.Humidity9am.quantile(0.25)-(IQR*1.5)\n",
    "upper_bridge=df.Humidity9am.quantile(0.75)+(IQR*1.5)\n",
    "print(lower_bridge, upper_bridge)\n",
    "print(df.Humidity9am.quantile(0.75) -df.Humidity9am.quantile(0.25))"
   ]
  },
  {
   "cell_type": "code",
   "execution_count": 42,
   "id": "635344ac",
   "metadata": {},
   "outputs": [],
   "source": [
    "df.loc[df['Humidity9am']>=122.0,'Humidity9am']=122.0\n",
    "df.loc[df['Humidity9am']<=18.0,'Humidity9am']=18.0"
   ]
  },
  {
   "cell_type": "markdown",
   "id": "21f0d81d",
   "metadata": {},
   "source": [
    "# Humidity3pm"
   ]
  },
  {
   "cell_type": "code",
   "execution_count": 43,
   "id": "e9556a26",
   "metadata": {},
   "outputs": [
    {
     "name": "stdout",
     "output_type": "stream",
     "text": [
      "-5.0 107.0\n",
      "28.0\n"
     ]
    }
   ],
   "source": [
    "IQR=df.Humidity3pm.quantile(0.75)-df.Humidity3pm.quantile(0.25)\n",
    "lower_bridge=df.Humidity3pm.quantile(0.25)-(IQR*1.5)\n",
    "upper_bridge=df.Humidity3pm.quantile(0.75)+(IQR*1.5)\n",
    "print(lower_bridge, upper_bridge)\n",
    "print(df.Humidity3pm.quantile(0.75) -df.Humidity3pm.quantile(0.25))"
   ]
  },
  {
   "cell_type": "code",
   "execution_count": 44,
   "id": "fdd9a0dc",
   "metadata": {},
   "outputs": [],
   "source": [
    "df.loc[df['Humidity3pm']>=107,'Humidity3pm']=107\n",
    "df.loc[df['Humidity3pm']<=-5.0,'Humidity3pm']=-5.0"
   ]
  },
  {
   "cell_type": "markdown",
   "id": "4fbce3f3",
   "metadata": {},
   "source": [
    "# Pressure9am"
   ]
  },
  {
   "cell_type": "code",
   "execution_count": 45,
   "id": "6de268e2",
   "metadata": {},
   "outputs": [
    {
     "name": "stdout",
     "output_type": "stream",
     "text": [
      "1001.0500000000001 1034.25\n",
      "8.299999999999955\n"
     ]
    }
   ],
   "source": [
    "IQR=df.Pressure9am.quantile(0.75)-df.Pressure9am.quantile(0.25)\n",
    "lower_bridge=df.Pressure9am.quantile(0.25)-(IQR*1.5)\n",
    "upper_bridge=df.Pressure9am.quantile(0.75)+(IQR*1.5)\n",
    "print(lower_bridge, upper_bridge)\n",
    "print(df.Pressure9am.quantile(0.75) -df.Pressure9am.quantile(0.25))"
   ]
  },
  {
   "cell_type": "code",
   "execution_count": 46,
   "id": "431712ea",
   "metadata": {},
   "outputs": [],
   "source": [
    "df.loc[df['Pressure9am']>=1034.25,'Pressure9am']=1034.25\n",
    "df.loc[df['Pressure9am']<=1001.0500000000001,'Pressure9am']=1001.0500000000001"
   ]
  },
  {
   "cell_type": "markdown",
   "id": "c4f20acd",
   "metadata": {},
   "source": [
    "# Pressure3pm"
   ]
  },
  {
   "cell_type": "code",
   "execution_count": 47,
   "id": "5e6984c9",
   "metadata": {},
   "outputs": [
    {
     "name": "stdout",
     "output_type": "stream",
     "text": [
      "998.6500000000001 1031.85\n",
      "8.299999999999955\n"
     ]
    }
   ],
   "source": [
    "IQR=df.Pressure3pm.quantile(0.75)-df.Pressure3pm.quantile(0.25)\n",
    "lower_bridge=df.Pressure3pm.quantile(0.25)-(IQR*1.5)\n",
    "upper_bridge=df.Pressure3pm.quantile(0.75)+(IQR*1.5)\n",
    "print(lower_bridge, upper_bridge)\n",
    "print(df.Pressure3pm.quantile(0.75) -df.Pressure3pm.quantile(0.25))"
   ]
  },
  {
   "cell_type": "code",
   "execution_count": 48,
   "id": "26f2fc98",
   "metadata": {},
   "outputs": [],
   "source": [
    "df.loc[df['Pressure3pm']>=1031.85,'Pressure3pm']=1031.85\n",
    "df.loc[df['Pressure3pm']<=998.6500000000001,'Pressure3pm']=998.6500000000001"
   ]
  },
  {
   "cell_type": "markdown",
   "id": "424bfc87",
   "metadata": {},
   "source": [
    "# Cloud9am"
   ]
  },
  {
   "cell_type": "code",
   "execution_count": 49,
   "id": "7dd59a24",
   "metadata": {},
   "outputs": [
    {
     "name": "stdout",
     "output_type": "stream",
     "text": [
      "-1.5 10.5\n",
      "3.0\n"
     ]
    }
   ],
   "source": [
    "IQR=df.Cloud9am.quantile(0.75)-df.Cloud9am.quantile(0.25)\n",
    "lower_bridge=df.Cloud9am.quantile(0.25)-(IQR*1.5)\n",
    "upper_bridge=df.Cloud9am.quantile(0.75)+(IQR*1.5)\n",
    "print(lower_bridge, upper_bridge)\n",
    "print(df.Cloud9am.quantile(0.75) -df.Cloud9am.quantile(0.25))"
   ]
  },
  {
   "cell_type": "code",
   "execution_count": 50,
   "id": "65b46538",
   "metadata": {},
   "outputs": [],
   "source": [
    "df.loc[df['Cloud9am']>=10.5,'Cloud9am']=10.5\n",
    "df.loc[df['Cloud9am']<=-1.5,'Cloud9am']=-1.5"
   ]
  },
  {
   "cell_type": "markdown",
   "id": "66c72762",
   "metadata": {},
   "source": [
    "# Cloud9am"
   ]
  },
  {
   "cell_type": "code",
   "execution_count": 51,
   "id": "8a1f9bd2",
   "metadata": {},
   "outputs": [
    {
     "name": "stdout",
     "output_type": "stream",
     "text": [
      "1.0 9.0\n",
      "2.0\n"
     ]
    }
   ],
   "source": [
    "IQR=df.Cloud3pm.quantile(0.75)-df.Cloud3pm.quantile(0.25)\n",
    "lower_bridge=df.Cloud3pm.quantile(0.25)-(IQR*1.5)\n",
    "upper_bridge=df.Cloud3pm.quantile(0.75)+(IQR*1.5)\n",
    "print(lower_bridge, upper_bridge)\n",
    "print(df.Cloud3pm.quantile(0.75) -df.Cloud3pm.quantile(0.25))"
   ]
  },
  {
   "cell_type": "code",
   "execution_count": 52,
   "id": "2fec889b",
   "metadata": {},
   "outputs": [],
   "source": [
    "df.loc[df['Cloud3pm']>=9.0,'Cloud3pm']=9.0\n",
    "df.loc[df['Cloud3pm']<=1.0,'Cloud3pm']=1.0"
   ]
  },
  {
   "cell_type": "markdown",
   "id": "fc854160",
   "metadata": {},
   "source": [
    "# Temp9am"
   ]
  },
  {
   "cell_type": "code",
   "execution_count": 53,
   "id": "ec65c062",
   "metadata": {},
   "outputs": [
    {
     "name": "stdout",
     "output_type": "stream",
     "text": [
      "-1.4999999999999982 35.3\n",
      "9.2\n"
     ]
    }
   ],
   "source": [
    "IQR=df.Temp9am.quantile(0.75)-df.Temp9am.quantile(0.25)\n",
    "lower_bridge=df.Temp9am.quantile(0.25)-(IQR*1.5)\n",
    "upper_bridge=df.Temp9am.quantile(0.75)+(IQR*1.5)\n",
    "print(lower_bridge, upper_bridge)\n",
    "print(df.Temp9am.quantile(0.75) -df.Temp9am.quantile(0.25))"
   ]
  },
  {
   "cell_type": "code",
   "execution_count": 54,
   "id": "8598c522",
   "metadata": {},
   "outputs": [],
   "source": [
    "df.loc[df['Temp9am']>=35.3,'Temp9am']=35.3\n",
    "df.loc[df['Temp9am']<=-1.4999999999999982,'Temp9am']=-1.4999999999999982"
   ]
  },
  {
   "cell_type": "markdown",
   "id": "cdddbf00",
   "metadata": {},
   "source": [
    "# Temp3pm"
   ]
  },
  {
   "cell_type": "code",
   "execution_count": 55,
   "id": "c3eb978b",
   "metadata": {},
   "outputs": [
    {
     "name": "stdout",
     "output_type": "stream",
     "text": [
      "2.4499999999999993 40.45\n",
      "9.5\n"
     ]
    }
   ],
   "source": [
    "IQR=df.Temp3pm.quantile(0.75)-df.Temp3pm.quantile(0.25)\n",
    "lower_bridge=df.Temp3pm.quantile(0.25)-(IQR*1.5)\n",
    "upper_bridge=df.Temp3pm.quantile(0.75)+(IQR*1.5)\n",
    "print(lower_bridge, upper_bridge)\n",
    "print(df.Temp3pm.quantile(0.75) -df.Temp3pm.quantile(0.25))"
   ]
  },
  {
   "cell_type": "code",
   "execution_count": 56,
   "id": "628e5024",
   "metadata": {},
   "outputs": [],
   "source": [
    "df.loc[df['Temp3pm']>=40.45,'Temp3pm']=40.45\n",
    "df.loc[df['Temp3pm']<=2.4499999999999993,'Temp3pm']=2.4499999999999993"
   ]
  },
  {
   "cell_type": "code",
   "execution_count": 57,
   "id": "6ef30112",
   "metadata": {},
   "outputs": [
    {
     "data": {
      "image/png": "[encoded data removed]",
      "text/plain": [
       "<Figure size 1400x1400 with 23 Axes>"
      ]
     },
     "metadata": {},
     "output_type": "display_data"
    }
   ],
   "source": [
    "numeric_cols = df.drop([\"RainTomorrow\",\"RainToday\"], axis=1)\n",
    "plt.figure(figsize=(14, 14))\n",
    "plt.subplots_adjust(hspace=0.5)\n",
    "\n",
    "for i, col in enumerate(numeric_cols, 1):\n",
    "    plt.subplot(4, 6, i)\n",
    "    sns.boxplot(x=df[col])\n",
    "    plt.title(col)\n",
    "plt.show()"
   ]
  },
  {
   "cell_type": "code",
   "execution_count": 58,
   "id": "e96c2507",
   "metadata": {},
   "outputs": [
    {
     "data": {
      "text/html": [
       "<div>\n",
       "<style scoped>\n",
       "    .dataframe tbody tr th:only-of-type {\n",
       "        vertical-align: middle;\n",
       "    }\n",
       "\n",
       "    .dataframe tbody tr th {\n",
       "        vertical-align: top;\n",
       "    }\n",
       "\n",
       "    .dataframe thead th {\n",
       "        text-align: right;\n",
       "    }\n",
       "</style>\n",
       "<table border=\"1\" class=\"dataframe\">\n",
       "  <thead>\n",
       "    <tr style=\"text-align: right;\">\n",
       "      <th></th>\n",
       "      <th>MinTemp</th>\n",
       "      <th>MaxTemp</th>\n",
       "      <th>Rainfall</th>\n",
       "      <th>Evaporation</th>\n",
       "      <th>Sunshine</th>\n",
       "      <th>WindGustSpeed</th>\n",
       "      <th>WindSpeed9am</th>\n",
       "      <th>WindSpeed3pm</th>\n",
       "      <th>Humidity9am</th>\n",
       "      <th>Humidity3pm</th>\n",
       "      <th>...</th>\n",
       "      <th>Temp3pm</th>\n",
       "      <th>RainToday</th>\n",
       "      <th>RainTomorrow</th>\n",
       "      <th>year</th>\n",
       "      <th>month</th>\n",
       "      <th>day</th>\n",
       "      <th>Location_cl</th>\n",
       "      <th>WindGustDir_cl</th>\n",
       "      <th>WindDir9am_cl</th>\n",
       "      <th>WindDir3pm_cl</th>\n",
       "    </tr>\n",
       "  </thead>\n",
       "  <tbody>\n",
       "    <tr>\n",
       "      <th>0</th>\n",
       "      <td>13.4</td>\n",
       "      <td>22.9</td>\n",
       "      <td>0.6</td>\n",
       "      <td>5.468232</td>\n",
       "      <td>7.611178</td>\n",
       "      <td>44.0</td>\n",
       "      <td>20.0</td>\n",
       "      <td>24.0</td>\n",
       "      <td>71.0</td>\n",
       "      <td>22.0</td>\n",
       "      <td>...</td>\n",
       "      <td>21.8</td>\n",
       "      <td>0.0</td>\n",
       "      <td>0.0</td>\n",
       "      <td>2008</td>\n",
       "      <td>12</td>\n",
       "      <td>1</td>\n",
       "      <td>1</td>\n",
       "      <td>13</td>\n",
       "      <td>13</td>\n",
       "      <td>14</td>\n",
       "    </tr>\n",
       "    <tr>\n",
       "      <th>1</th>\n",
       "      <td>7.4</td>\n",
       "      <td>25.1</td>\n",
       "      <td>0.0</td>\n",
       "      <td>5.468232</td>\n",
       "      <td>7.611178</td>\n",
       "      <td>44.0</td>\n",
       "      <td>4.0</td>\n",
       "      <td>22.0</td>\n",
       "      <td>44.0</td>\n",
       "      <td>25.0</td>\n",
       "      <td>...</td>\n",
       "      <td>24.3</td>\n",
       "      <td>0.0</td>\n",
       "      <td>0.0</td>\n",
       "      <td>2008</td>\n",
       "      <td>12</td>\n",
       "      <td>2</td>\n",
       "      <td>1</td>\n",
       "      <td>14</td>\n",
       "      <td>6</td>\n",
       "      <td>15</td>\n",
       "    </tr>\n",
       "    <tr>\n",
       "      <th>2</th>\n",
       "      <td>12.9</td>\n",
       "      <td>25.7</td>\n",
       "      <td>0.0</td>\n",
       "      <td>5.468232</td>\n",
       "      <td>7.611178</td>\n",
       "      <td>46.0</td>\n",
       "      <td>19.0</td>\n",
       "      <td>26.0</td>\n",
       "      <td>38.0</td>\n",
       "      <td>30.0</td>\n",
       "      <td>...</td>\n",
       "      <td>23.2</td>\n",
       "      <td>0.0</td>\n",
       "      <td>0.0</td>\n",
       "      <td>2008</td>\n",
       "      <td>12</td>\n",
       "      <td>3</td>\n",
       "      <td>1</td>\n",
       "      <td>15</td>\n",
       "      <td>13</td>\n",
       "      <td>15</td>\n",
       "    </tr>\n",
       "    <tr>\n",
       "      <th>3</th>\n",
       "      <td>9.2</td>\n",
       "      <td>28.0</td>\n",
       "      <td>0.0</td>\n",
       "      <td>5.468232</td>\n",
       "      <td>7.611178</td>\n",
       "      <td>24.0</td>\n",
       "      <td>11.0</td>\n",
       "      <td>9.0</td>\n",
       "      <td>45.0</td>\n",
       "      <td>16.0</td>\n",
       "      <td>...</td>\n",
       "      <td>26.5</td>\n",
       "      <td>0.0</td>\n",
       "      <td>0.0</td>\n",
       "      <td>2008</td>\n",
       "      <td>12</td>\n",
       "      <td>4</td>\n",
       "      <td>1</td>\n",
       "      <td>4</td>\n",
       "      <td>9</td>\n",
       "      <td>0</td>\n",
       "    </tr>\n",
       "    <tr>\n",
       "      <th>4</th>\n",
       "      <td>17.5</td>\n",
       "      <td>32.3</td>\n",
       "      <td>1.0</td>\n",
       "      <td>5.468232</td>\n",
       "      <td>7.611178</td>\n",
       "      <td>41.0</td>\n",
       "      <td>7.0</td>\n",
       "      <td>20.0</td>\n",
       "      <td>82.0</td>\n",
       "      <td>33.0</td>\n",
       "      <td>...</td>\n",
       "      <td>29.7</td>\n",
       "      <td>0.0</td>\n",
       "      <td>0.0</td>\n",
       "      <td>2008</td>\n",
       "      <td>12</td>\n",
       "      <td>5</td>\n",
       "      <td>1</td>\n",
       "      <td>13</td>\n",
       "      <td>1</td>\n",
       "      <td>7</td>\n",
       "    </tr>\n",
       "  </tbody>\n",
       "</table>\n",
       "<p>5 rows × 25 columns</p>\n",
       "</div>"
      ],
      "text/plain": [
       "   MinTemp  MaxTemp  Rainfall  Evaporation  Sunshine  WindGustSpeed  \\\n",
       "0     13.4     22.9       0.6     5.468232  7.611178           44.0   \n",
       "1      7.4     25.1       0.0     5.468232  7.611178           44.0   \n",
       "2     12.9     25.7       0.0     5.468232  7.611178           46.0   \n",
       "3      9.2     28.0       0.0     5.468232  7.611178           24.0   \n",
       "4     17.5     32.3       1.0     5.468232  7.611178           41.0   \n",
       "\n",
       "   WindSpeed9am  WindSpeed3pm  Humidity9am  Humidity3pm  ...  Temp3pm  \\\n",
       "0          20.0          24.0         71.0         22.0  ...     21.8   \n",
       "1           4.0          22.0         44.0         25.0  ...     24.3   \n",
       "2          19.0          26.0         38.0         30.0  ...     23.2   \n",
       "3          11.0           9.0         45.0         16.0  ...     26.5   \n",
       "4           7.0          20.0         82.0         33.0  ...     29.7   \n",
       "\n",
       "   RainToday  RainTomorrow  year  month  day  Location_cl  WindGustDir_cl  \\\n",
       "0        0.0           0.0  2008     12    1            1              13   \n",
       "1        0.0           0.0  2008     12    2            1              14   \n",
       "2        0.0           0.0  2008     12    3            1              15   \n",
       "3        0.0           0.0  2008     12    4            1               4   \n",
       "4        0.0           0.0  2008     12    5            1              13   \n",
       "\n",
       "   WindDir9am_cl  WindDir3pm_cl  \n",
       "0             13             14  \n",
       "1              6             15  \n",
       "2             13             15  \n",
       "3              9              0  \n",
       "4              1              7  \n",
       "\n",
       "[5 rows x 25 columns]"
      ]
     },
     "execution_count": 58,
     "metadata": {},
     "output_type": "execute_result"
    }
   ],
   "source": [
    "#Saving the preprocessed data into a csv file. Now we can use this csv file for model #training and further process.\n",
    "df.to_csv(\"Processed.csv\", index=False)\n",
    "df_final=pd.read_csv(\"Processed.csv\")\n",
    "df_final.shape\n",
    "df_final.head()"
   ]
  },
  {
   "cell_type": "markdown",
   "id": "e6432ea2",
   "metadata": {},
   "source": [
    "# Model Building"
   ]
  },
  {
   "cell_type": "code",
   "execution_count": 60,
   "id": "8f40447c",
   "metadata": {},
   "outputs": [],
   "source": [
    "features = df_final.drop(\"RainTomorrow\", axis=1)\n",
    "target = df_final['RainTomorrow']\n",
    "# Split into test and train\n",
    "X_train, X_test, y_train, y_test = train_test_split(features, target, test_size=0.2, random_state=42,\n",
    "                                                    shuffle=True, stratify=target)"
   ]
  },
  {
   "cell_type": "markdown",
   "id": "8222d347",
   "metadata": {},
   "source": [
    "# SMOTE Analysis"
   ]
  },
  {
   "cell_type": "code",
   "execution_count": 61,
   "id": "c10e6bb7",
   "metadata": {},
   "outputs": [
    {
     "name": "stdout",
     "output_type": "stream",
     "text": [
      "The number of classes before fit Counter({0.0: 90866, 1.0: 25502})\n",
      "The number of classes after fit Counter({0.0: 90866, 1.0: 90866})\n"
     ]
    }
   ],
   "source": [
    "sm=SMOTE(random_state=0)\n",
    "X_train_sm, y_train_sm = sm.fit_resample(X_train, y_train)\n",
    "\n",
    "print(\"The number of classes before fit {}\".format(Counter(y_train)))\n",
    "print(\"The number of classes after fit {}\".format(Counter(y_train_sm)))"
   ]
  },
  {
   "cell_type": "markdown",
   "id": "70b3e894",
   "metadata": {},
   "source": [
    "# Logistic Regression"
   ]
  },
  {
   "cell_type": "code",
   "execution_count": 62,
   "id": "97b02090",
   "metadata": {},
   "outputs": [
    {
     "name": "stdout",
     "output_type": "stream",
     "text": [
      "Accuracy = 0.7778770796095147\n",
      "Time taken = 1.4907891750335693\n",
      "[[17744  4973]\n",
      " [ 1489  4886]]\n",
      "              precision    recall  f1-score   support\n",
      "\n",
      "         0.0       0.92      0.78      0.85     22717\n",
      "         1.0       0.50      0.77      0.60      6375\n",
      "\n",
      "    accuracy                           0.78     29092\n",
      "   macro avg       0.71      0.77      0.72     29092\n",
      "weighted avg       0.83      0.78      0.79     29092\n",
      "\n"
     ]
    }
   ],
   "source": [
    "t0=time.time()\n",
    "model_lr = LogisticRegression(random_state=42)\n",
    "model_lr.fit(X_train_sm,y_train_sm)\n",
    "y_pred = model_lr.predict(X_test)\n",
    "accuracy_lr = accuracy_score(y_test, y_pred)\n",
    "tt_lr = time.time()-t0\n",
    "print(\"Accuracy = {}\".format(accuracy_lr))\n",
    "print(\"Time taken = {}\".format(tt_lr))\n",
    "print(confusion_matrix(y_test,y_pred))\n",
    "print(classification_report(y_test,y_pred))"
   ]
  },
  {
   "cell_type": "markdown",
   "id": "cce70234",
   "metadata": {},
   "source": [
    "# Decision Tree"
   ]
  },
  {
   "cell_type": "code",
   "execution_count": 63,
   "id": "6703f3af",
   "metadata": {},
   "outputs": [
    {
     "name": "stdout",
     "output_type": "stream",
     "text": [
      "Accuracy = 0.7899078784545579\n",
      "Time taken = 0.5952422618865967\n",
      "[[19025  3692]\n",
      " [ 2420  3955]]\n",
      "              precision    recall  f1-score   support\n",
      "\n",
      "         0.0       0.89      0.84      0.86     22717\n",
      "         1.0       0.52      0.62      0.56      6375\n",
      "\n",
      "    accuracy                           0.79     29092\n",
      "   macro avg       0.70      0.73      0.71     29092\n",
      "weighted avg       0.81      0.79      0.80     29092\n",
      "\n"
     ]
    }
   ],
   "source": [
    "t0=time.time()\n",
    "params_dt = {'max_depth': 16,\n",
    "             'max_features': \"sqrt\",\n",
    "            'random_state':42}\n",
    "model_dt = DecisionTreeClassifier(**params_dt)\n",
    "model_dt.fit(X_train_sm,y_train_sm)\n",
    "y_pred = model_dt.predict(X_test)\n",
    "accuracy_dt = accuracy_score(y_test, y_pred)\n",
    "tt_dt = time.time()-t0\n",
    "print(\"Accuracy = {}\".format(accuracy_dt))\n",
    "print(\"Time taken = {}\".format(tt_dt))\n",
    "print(confusion_matrix(y_test,y_pred))\n",
    "print(classification_report(y_test,y_pred))"
   ]
  },
  {
   "cell_type": "code",
   "execution_count": 64,
   "id": "912b11f4",
   "metadata": {},
   "outputs": [
    {
     "data": {
      "image/png": "[encoded data removed]",
      "text/plain": [
       "<Figure size 640x480 with 1 Axes>"
      ]
     },
     "metadata": {},
     "output_type": "display_data"
    }
   ],
   "source": [
    "features = df_final.drop(\"RainTomorrow\", axis=1)\n",
    "feature_imp1 = model_dt.feature_importances_\n",
    "sns.barplot(x=feature_imp1, y=features.columns)\n",
    "\n",
    "plt.xlabel('Feature Importance Score')\n",
    "plt.ylabel('Features')\n",
    "plt.title(\"Visualizing Important Features From Decision Tree Classifier\")\n",
    "plt.show()"
   ]
  },
  {
   "cell_type": "markdown",
   "id": "c5bb0104",
   "metadata": {},
   "source": [
    "# Random Forest"
   ]
  },
  {
   "cell_type": "code",
   "execution_count": 65,
   "id": "c0021c06",
   "metadata": {},
   "outputs": [
    {
     "name": "stdout",
     "output_type": "stream",
     "text": [
      "Accuracy = 0.8429808882166919\n",
      "Time taken = 55.544793367385864\n",
      "[[20378  2339]\n",
      " [ 2229  4146]]\n",
      "              precision    recall  f1-score   support\n",
      "\n",
      "         0.0       0.90      0.90      0.90     22717\n",
      "         1.0       0.64      0.65      0.64      6375\n",
      "\n",
      "    accuracy                           0.84     29092\n",
      "   macro avg       0.77      0.77      0.77     29092\n",
      "weighted avg       0.84      0.84      0.84     29092\n",
      "\n"
     ]
    }
   ],
   "source": [
    "t0=time.time()\n",
    "params_rf = {'max_depth': 16,\n",
    "             'min_samples_leaf': 1,\n",
    "             'min_samples_split': 2,\n",
    "             'n_estimators': 100,\n",
    "             'random_state': 42}\n",
    "model_rf = RandomForestClassifier(**params_rf)\n",
    "model_rf.fit(X_train_sm,y_train_sm)\n",
    "y_pred = model_rf.predict(X_test)\n",
    "accuracy_rf = accuracy_score(y_test, y_pred)\n",
    "tt_rf = time.time()-t0\n",
    "print(\"Accuracy = {}\".format(accuracy_rf))\n",
    "print(\"Time taken = {}\".format(tt_rf))\n",
    "print(confusion_matrix(y_test,y_pred))\n",
    "print(classification_report(y_test,y_pred))"
   ]
  },
  {
   "cell_type": "code",
   "execution_count": 66,
   "id": "8461566f",
   "metadata": {},
   "outputs": [
    {
     "data": {
      "image/png": "[encoded data removed]",
      "text/plain": [
       "<Figure size 640x480 with 1 Axes>"
      ]
     },
     "metadata": {},
     "output_type": "display_data"
    }
   ],
   "source": [
    "features = df_final.drop([\"RainTomorrow\"], axis=1)\n",
    "feature_imp1 = model_rf.feature_importances_\n",
    "sns.barplot(x=feature_imp1, y=features.columns)\n",
    "\n",
    "plt.xlabel('Feature Importance Score')\n",
    "plt.ylabel('Features')\n",
    "plt.title(\"Visualizing Important Features From Random_Forest Classifier\")\n",
    "plt.show()"
   ]
  },
  {
   "cell_type": "markdown",
   "id": "ea5e49d1",
   "metadata": {},
   "source": [
    "# KNN Classifier"
   ]
  },
  {
   "cell_type": "code",
   "execution_count": 67,
   "id": "469def9b",
   "metadata": {},
   "outputs": [
    {
     "name": "stdout",
     "output_type": "stream",
     "text": [
      "Accuracy = 0.7469407397222604\n",
      "Time taken = 11.956713199615479\n",
      "[[16940  5777]\n",
      " [ 1585  4790]]\n",
      "              precision    recall  f1-score   support\n",
      "\n",
      "         0.0       0.91      0.75      0.82     22717\n",
      "         1.0       0.45      0.75      0.57      6375\n",
      "\n",
      "    accuracy                           0.75     29092\n",
      "   macro avg       0.68      0.75      0.69     29092\n",
      "weighted avg       0.81      0.75      0.77     29092\n",
      "\n"
     ]
    }
   ],
   "source": [
    "#knn classifier\n",
    "t0=time.time()\n",
    "params_knn = {'n_neighbors':5,\n",
    "             'p':2,\n",
    "             'metric':'minkowski',\n",
    "                }\n",
    "model_knn = KNeighborsClassifier(**params_knn)\n",
    "model_knn.fit(X_train_sm,y_train_sm)\n",
    "y_pred = model_knn.predict(X_test)\n",
    "accuracy_knn = accuracy_score(y_test, y_pred)\n",
    "tt_knn = time.time()-t0\n",
    "print(\"Accuracy = {}\".format(accuracy_knn))\n",
    "print(\"Time taken = {}\".format(tt_knn))\n",
    "print(confusion_matrix(y_test,y_pred))\n",
    "print(classification_report(y_test,y_pred))"
   ]
  },
  {
   "cell_type": "markdown",
   "id": "5ab87087",
   "metadata": {},
   "source": [
    "# XGBoost"
   ]
  },
  {
   "cell_type": "code",
   "execution_count": 68,
   "id": "751b8e3c",
   "metadata": {},
   "outputs": [
    {
     "name": "stdout",
     "output_type": "stream",
     "text": [
      "Accuracy = 0.8633644988312938\n",
      "Time taken = 26.01539182662964\n",
      "[[21333  1384]\n",
      " [ 2591  3784]]\n",
      "              precision    recall  f1-score   support\n",
      "\n",
      "         0.0       0.89      0.94      0.91     22717\n",
      "         1.0       0.73      0.59      0.66      6375\n",
      "\n",
      "    accuracy                           0.86     29092\n",
      "   macro avg       0.81      0.77      0.79     29092\n",
      "weighted avg       0.86      0.86      0.86     29092\n",
      "\n"
     ]
    }
   ],
   "source": [
    "t0=time.time()\n",
    "params_xgb ={'n_estimators': 500,\n",
    "            'max_depth': 16}\n",
    "\n",
    "model_xgb = xgb.XGBClassifier(**params_xgb)\n",
    "model_xgb.fit(X_train_sm,y_train_sm)\n",
    "y_pred = model_xgb.predict(X_test)\n",
    "accuracy_xgb = accuracy_score(y_test, y_pred)\n",
    "tt_xgb = time.time()-t0\n",
    "print(\"Accuracy = {}\".format(accuracy_xgb))\n",
    "print(\"Time taken = {}\".format(tt_xgb))\n",
    "print(confusion_matrix(y_test,y_pred))\n",
    "print(classification_report(y_test,y_pred))\n"
   ]
  },
  {
   "cell_type": "code",
   "execution_count": 69,
   "id": "cdefb0dd",
   "metadata": {},
   "outputs": [
    {
     "data": {
      "image/png": "[encoded data removed]",
      "text/plain": [
       "<Figure size 640x480 with 1 Axes>"
      ]
     },
     "metadata": {},
     "output_type": "display_data"
    }
   ],
   "source": [
    "features = df_final.drop(\"RainTomorrow\", axis=1)\n",
    "feature_imp1 = model_xgb.feature_importances_\n",
    "sns.barplot(x=feature_imp1, y=features.columns)\n",
    "\n",
    "plt.xlabel('Feature Importance Score')\n",
    "plt.ylabel('Features')\n",
    "plt.title(\"Visualizing Important Features From XGBoost Classifier\")\n",
    "plt.show()"
   ]
  },
  {
   "cell_type": "markdown",
   "id": "6ba51a88",
   "metadata": {},
   "source": [
    "# Plotting Graphs Of Accuracy v/s Time :"
   ]
  },
  {
   "cell_type": "code",
   "execution_count": 70,
   "id": "986187a7",
   "metadata": {},
   "outputs": [
    {
     "data": {
      "image/png": "[encoded data removed]",
      "text/plain": [
       "<Figure size 1200x1000 with 2 Axes>"
      ]
     },
     "metadata": {},
     "output_type": "display_data"
    }
   ],
   "source": [
    "accuracy_scores = [accuracy_lr, accuracy_dt, accuracy_rf,accuracy_knn, accuracy_xgb]\n",
    "tt = [tt_lr, tt_dt, tt_rf, tt_knn,  tt_xgb]\n",
    "\n",
    "model_data = {'Model': ['Logistic Regression','Decision Tree','Random Forest','KNN Classifier','XGBoost'],\n",
    "              'Accuracy': accuracy_scores,\n",
    "              'Time taken': tt}\n",
    "data = pd.DataFrame(model_data)\n",
    "\n",
    "fig, ax1 = plt.subplots(figsize=(12,10))\n",
    "ax1.set_title('Model Comparison: Accuracy and Time taken for execution', fontsize=13)\n",
    "color = 'green'\n",
    "ax1.grid()\n",
    "ax1.set_xlabel('Model', fontsize=13)\n",
    "ax1.set_ylabel('Time taken', fontsize=13, color=color)\n",
    "ax2 = sns.barplot(x='Model', y='Time taken', data = data, palette='summer')\n",
    "ax1.tick_params(axis='y')\n",
    "ax2 = ax1.twinx()\n",
    "color = 'red'\n",
    "ax2.set_ylabel('Accuracy', fontsize=13, color=color)\n",
    "ax2 = sns.lineplot(x='Model', y='Accuracy', data = data, sort=False, color=color)\n",
    "ax2.tick_params(axis='y', color=color)"
   ]
  },
  {
   "cell_type": "markdown",
   "id": "1968897b",
   "metadata": {},
   "source": [
    "# Final Model Selection which gives Maximum accuracy(XGBoost)"
   ]
  },
  {
   "cell_type": "markdown",
   "id": "7b3c8b29",
   "metadata": {},
   "source": [
    "# Selecting Important Features From XGBoost Classifier"
   ]
  },
  {
   "cell_type": "code",
   "execution_count": 77,
   "id": "80ac27c5",
   "metadata": {},
   "outputs": [
    {
     "data": {
      "image/png": "[encoded data removed]",
      "text/plain": [
       "<Figure size 640x480 with 1 Axes>"
      ]
     },
     "metadata": {},
     "output_type": "display_data"
    }
   ],
   "source": [
    "features = df_final.drop(\"RainTomorrow\", axis=1)\n",
    "feature_imp1 = model_xgb.feature_importances_\n",
    "sns.barplot(x=feature_imp1, y=features.columns)\n",
    "\n",
    "plt.xlabel('Feature Importance Score')\n",
    "plt.ylabel('Features')\n",
    "plt.title(\"Visualizing Important Features From XGBoost Classifier\")\n",
    "plt.show()"
   ]
  },
  {
   "cell_type": "code",
   "execution_count": 80,
   "id": "7f1f7ba8",
   "metadata": {},
   "outputs": [],
   "source": [
    "features_final = df_final[[\"Rainfall\",\"Sunshine\",\"WindGustSpeed\",\"Humidity3pm\",\"Pressure3pm\",\"Cloud9am\",\"Cloud3pm\",\"RainToday\"]]\n",
    "target_final = df_final['RainTomorrow']\n",
    "# Split into test and train\n",
    "X_train_final, X_test_final, y_train_final, y_test_final = train_test_split(features_final, target_final, test_size=0.2, random_state=42,\n",
    "                                                    shuffle=True, stratify=target)"
   ]
  },
  {
   "cell_type": "code",
   "execution_count": 81,
   "id": "bad3a78a",
   "metadata": {},
   "outputs": [
    {
     "name": "stdout",
     "output_type": "stream",
     "text": [
      "The number of classes before fit Counter({0.0: 90866, 1.0: 25502})\n",
      "The number of classes after fit Counter({0.0: 90866, 1.0: 90866})\n"
     ]
    }
   ],
   "source": [
    "sm=SMOTE(random_state=0)\n",
    "X_train_sm, y_train_sm = sm.fit_resample(X_train_final, y_train_final)\n",
    "\n",
    "print(\"The number of classes before fit {}\".format(Counter(y_train)))\n",
    "print(\"The number of classes after fit {}\".format(Counter(y_train_sm)))"
   ]
  },
  {
   "cell_type": "code",
   "execution_count": 96,
   "id": "c5c48653",
   "metadata": {},
   "outputs": [
    {
     "name": "stdout",
     "output_type": "stream",
     "text": [
      "Accuracy = 0.8175443420871717\n",
      "[[20425  2292]\n",
      " [ 3016  3359]]\n",
      "              precision    recall  f1-score   support\n",
      "\n",
      "         0.0       0.87      0.90      0.89     22717\n",
      "         1.0       0.59      0.53      0.56      6375\n",
      "\n",
      "    accuracy                           0.82     29092\n",
      "   macro avg       0.73      0.71      0.72     29092\n",
      "weighted avg       0.81      0.82      0.81     29092\n",
      "\n"
     ]
    }
   ],
   "source": [
    "params_xgb_final ={'n_estimators': 600,\n",
    "            'max_depth': 16}\n",
    "model_xgb_final = xgb.XGBClassifier(**params_xgb)\n",
    "model_xgb_final.fit(X_train_sm,y_train_sm)\n",
    "y_pred_final = model_xgb_final.predict(X_test_final)\n",
    "accuracy_xgb_final = accuracy_score(y_test_final, y_pred_final)\n",
    "print(\"Accuracy = {}\".format(accuracy_xgb_final))\n",
    "print(confusion_matrix(y_test_final,y_pred_final))\n",
    "print(classification_report(y_test_final,y_pred_final))\n"
   ]
  },
  {
   "cell_type": "code",
   "execution_count": 97,
   "id": "5e13160a",
   "metadata": {},
   "outputs": [],
   "source": [
    "import pickle"
   ]
  },
  {
   "cell_type": "code",
   "execution_count": 98,
   "id": "03024186",
   "metadata": {},
   "outputs": [],
   "source": [
    "with open('rain_pred_final.pkl', 'wb') as file:\n",
    "    pickle.dump(model_xgb_final, file)"
   ]
  },
  {
   "cell_type": "markdown",
   "id": "370e8a64",
   "metadata": {},
   "source": [
    "# Evaluating Model Based on the values Predicted by model(For Flask Application)"
   ]
  },
  {
   "cell_type": "code",
   "execution_count": 99,
   "id": "90cfa0a1",
   "metadata": {},
   "outputs": [
    {
     "data": {
      "text/plain": [
       "111817    0.0\n",
       "69937     0.0\n",
       "82278     1.0\n",
       "86978     0.0\n",
       "39246     0.0\n",
       "10187     1.0\n",
       "77895     0.0\n",
       "109604    0.0\n",
       "8664      0.0\n",
       "27060     0.0\n",
       "Name: RainTomorrow, dtype: float64"
      ]
     },
     "execution_count": 99,
     "metadata": {},
     "output_type": "execute_result"
    }
   ],
   "source": [
    "y_test_final[0:10]"
   ]
  },
  {
   "cell_type": "code",
   "execution_count": 100,
   "id": "89ddc209",
   "metadata": {},
   "outputs": [
    {
     "data": {
      "text/plain": [
       "array([1, 0, 1, 0, 0, 1, 0, 0, 1, 0])"
      ]
     },
     "execution_count": 100,
     "metadata": {},
     "output_type": "execute_result"
    }
   ],
   "source": [
    "y_pred_final[0:10]"
   ]
  },
  {
   "cell_type": "code",
   "execution_count": 101,
   "id": "d5a7d51d",
   "metadata": {},
   "outputs": [
    {
     "data": {
      "text/html": [
       "<div>\n",
       "<style scoped>\n",
       "    .dataframe tbody tr th:only-of-type {\n",
       "        vertical-align: middle;\n",
       "    }\n",
       "\n",
       "    .dataframe tbody tr th {\n",
       "        vertical-align: top;\n",
       "    }\n",
       "\n",
       "    .dataframe thead th {\n",
       "        text-align: right;\n",
       "    }\n",
       "</style>\n",
       "<table border=\"1\" class=\"dataframe\">\n",
       "  <thead>\n",
       "    <tr style=\"text-align: right;\">\n",
       "      <th></th>\n",
       "      <th>Rainfall</th>\n",
       "      <th>Sunshine</th>\n",
       "      <th>WindGustSpeed</th>\n",
       "      <th>Humidity3pm</th>\n",
       "      <th>Pressure3pm</th>\n",
       "      <th>Cloud9am</th>\n",
       "      <th>Cloud3pm</th>\n",
       "      <th>RainToday</th>\n",
       "    </tr>\n",
       "  </thead>\n",
       "  <tbody>\n",
       "    <tr>\n",
       "      <th>111817</th>\n",
       "      <td>0.200000</td>\n",
       "      <td>7.611178</td>\n",
       "      <td>35.00000</td>\n",
       "      <td>84.000000</td>\n",
       "      <td>1030.700000</td>\n",
       "      <td>4.447461</td>\n",
       "      <td>4.50993</td>\n",
       "      <td>0.0</td>\n",
       "    </tr>\n",
       "    <tr>\n",
       "      <th>69937</th>\n",
       "      <td>2.360918</td>\n",
       "      <td>5.977944</td>\n",
       "      <td>41.00000</td>\n",
       "      <td>51.539116</td>\n",
       "      <td>1015.255889</td>\n",
       "      <td>4.447461</td>\n",
       "      <td>4.50993</td>\n",
       "      <td>0.0</td>\n",
       "    </tr>\n",
       "    <tr>\n",
       "      <th>82278</th>\n",
       "      <td>0.800000</td>\n",
       "      <td>7.000000</td>\n",
       "      <td>43.00000</td>\n",
       "      <td>76.000000</td>\n",
       "      <td>1012.600000</td>\n",
       "      <td>4.447461</td>\n",
       "      <td>4.50993</td>\n",
       "      <td>0.0</td>\n",
       "    </tr>\n",
       "    <tr>\n",
       "      <th>86978</th>\n",
       "      <td>0.000000</td>\n",
       "      <td>10.333234</td>\n",
       "      <td>28.00000</td>\n",
       "      <td>51.000000</td>\n",
       "      <td>1017.500000</td>\n",
       "      <td>4.000000</td>\n",
       "      <td>1.00000</td>\n",
       "      <td>0.0</td>\n",
       "    </tr>\n",
       "    <tr>\n",
       "      <th>39246</th>\n",
       "      <td>0.000000</td>\n",
       "      <td>7.611178</td>\n",
       "      <td>28.00000</td>\n",
       "      <td>58.000000</td>\n",
       "      <td>1027.600000</td>\n",
       "      <td>4.447461</td>\n",
       "      <td>7.00000</td>\n",
       "      <td>0.0</td>\n",
       "    </tr>\n",
       "    <tr>\n",
       "      <th>10187</th>\n",
       "      <td>0.400000</td>\n",
       "      <td>6.600000</td>\n",
       "      <td>50.00000</td>\n",
       "      <td>75.000000</td>\n",
       "      <td>1009.900000</td>\n",
       "      <td>6.000000</td>\n",
       "      <td>6.00000</td>\n",
       "      <td>0.0</td>\n",
       "    </tr>\n",
       "    <tr>\n",
       "      <th>77895</th>\n",
       "      <td>0.000000</td>\n",
       "      <td>7.611178</td>\n",
       "      <td>31.00000</td>\n",
       "      <td>68.000000</td>\n",
       "      <td>1015.600000</td>\n",
       "      <td>7.000000</td>\n",
       "      <td>4.00000</td>\n",
       "      <td>0.0</td>\n",
       "    </tr>\n",
       "    <tr>\n",
       "      <th>109604</th>\n",
       "      <td>0.000000</td>\n",
       "      <td>9.200000</td>\n",
       "      <td>40.03523</td>\n",
       "      <td>63.000000</td>\n",
       "      <td>1024.300000</td>\n",
       "      <td>6.000000</td>\n",
       "      <td>3.00000</td>\n",
       "      <td>0.0</td>\n",
       "    </tr>\n",
       "    <tr>\n",
       "      <th>8664</th>\n",
       "      <td>2.500000</td>\n",
       "      <td>7.611178</td>\n",
       "      <td>50.00000</td>\n",
       "      <td>74.000000</td>\n",
       "      <td>1013.800000</td>\n",
       "      <td>8.000000</td>\n",
       "      <td>8.00000</td>\n",
       "      <td>1.0</td>\n",
       "    </tr>\n",
       "    <tr>\n",
       "      <th>27060</th>\n",
       "      <td>0.000000</td>\n",
       "      <td>7.611178</td>\n",
       "      <td>22.00000</td>\n",
       "      <td>40.000000</td>\n",
       "      <td>1015.255889</td>\n",
       "      <td>4.447461</td>\n",
       "      <td>4.50993</td>\n",
       "      <td>0.0</td>\n",
       "    </tr>\n",
       "  </tbody>\n",
       "</table>\n",
       "</div>"
      ],
      "text/plain": [
       "        Rainfall   Sunshine  WindGustSpeed  Humidity3pm  Pressure3pm  \\\n",
       "111817  0.200000   7.611178       35.00000    84.000000  1030.700000   \n",
       "69937   2.360918   5.977944       41.00000    51.539116  1015.255889   \n",
       "82278   0.800000   7.000000       43.00000    76.000000  1012.600000   \n",
       "86978   0.000000  10.333234       28.00000    51.000000  1017.500000   \n",
       "39246   0.000000   7.611178       28.00000    58.000000  1027.600000   \n",
       "10187   0.400000   6.600000       50.00000    75.000000  1009.900000   \n",
       "77895   0.000000   7.611178       31.00000    68.000000  1015.600000   \n",
       "109604  0.000000   9.200000       40.03523    63.000000  1024.300000   \n",
       "8664    2.500000   7.611178       50.00000    74.000000  1013.800000   \n",
       "27060   0.000000   7.611178       22.00000    40.000000  1015.255889   \n",
       "\n",
       "        Cloud9am  Cloud3pm  RainToday  \n",
       "111817  4.447461   4.50993        0.0  \n",
       "69937   4.447461   4.50993        0.0  \n",
       "82278   4.447461   4.50993        0.0  \n",
       "86978   4.000000   1.00000        0.0  \n",
       "39246   4.447461   7.00000        0.0  \n",
       "10187   6.000000   6.00000        0.0  \n",
       "77895   7.000000   4.00000        0.0  \n",
       "109604  6.000000   3.00000        0.0  \n",
       "8664    8.000000   8.00000        1.0  \n",
       "27060   4.447461   4.50993        0.0  "
      ]
     },
     "execution_count": 101,
     "metadata": {},
     "output_type": "execute_result"
    }
   ],
   "source": [
    "X_test_final.iloc[0:10]"
   ]
  },
  {
   "cell_type": "code",
   "execution_count": null,
   "id": "61f7d718",
   "metadata": {},
   "outputs": [],
   "source": []
  },
  {
   "cell_type": "code",
   "execution_count": null,
   "id": "4a3de22d",
   "metadata": {},
   "outputs": [],
   "source": []
  }
 ],
 "metadata": {
  "kernelspec": {
   "display_name": "Python 3 (ipykernel)",
   "language": "python",
   "name": "python3"
  },
  "language_info": {
   "codemirror_mode": {
    "name": "ipython",
    "version": 3
   },
   "file_extension": ".py",
   "mimetype": "text/x-python",
   "name": "python",
   "nbconvert_exporter": "python",
   "pygments_lexer": "ipython3",
   "version": "3.11.4"
  }
 },
 "nbformat": 4,
 "nbformat_minor": 5
}
